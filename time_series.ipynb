{
  "cells": [
    {
      "cell_type": "markdown",
      "metadata": {},
      "source": [
        "# Временные ряды"
      ]
    },
    {
      "cell_type": "code",
      "execution_count": 9,
      "metadata": {
        "id": "94eYBcE13JGN"
      },
      "outputs": [],
      "source": [
        "import pandas as pd\n",
        "import numpy as np\n",
        "import matplotlib.pyplot as plt\n",
        "import seaborn as sns\n",
        "import statsmodels.api as sm\n",
        "import statsmodels.tsa.api as smt\n",
        "from pmdarima.arima import auto_arima\n",
        "from statsmodels.tsa.stattools import acf, pacf\n",
        "from statsmodels.graphics.tsaplots import plot_acf, plot_pacf"
      ]
    },
    {
      "cell_type": "markdown",
      "metadata": {
        "id": "3Lo9cKE272Xu"
      },
      "source": [
        "Импортируем таблицу, переименовали столбцы и убрали ненужные."
      ]
    },
    {
      "cell_type": "code",
      "execution_count": 10,
      "metadata": {
        "colab": {
          "base_uri": "https://localhost:8080/",
          "height": 424
        },
        "id": "k68PKzZn3LSW",
        "outputId": "4b8f27f5-3763-4670-f053-8195238a5072"
      },
      "outputs": [
        {
          "data": {
            "text/html": [
              "<div>\n",
              "<style scoped>\n",
              "    .dataframe tbody tr th:only-of-type {\n",
              "        vertical-align: middle;\n",
              "    }\n",
              "\n",
              "    .dataframe tbody tr th {\n",
              "        vertical-align: top;\n",
              "    }\n",
              "\n",
              "    .dataframe thead th {\n",
              "        text-align: right;\n",
              "    }\n",
              "</style>\n",
              "<table border=\"1\" class=\"dataframe\">\n",
              "  <thead>\n",
              "    <tr style=\"text-align: right;\">\n",
              "      <th></th>\n",
              "      <th>datetime</th>\n",
              "      <th>total requirements</th>\n",
              "    </tr>\n",
              "  </thead>\n",
              "  <tbody>\n",
              "    <tr>\n",
              "      <th>2</th>\n",
              "      <td>2023-10-16 00:00:00</td>\n",
              "      <td>7411164.5</td>\n",
              "    </tr>\n",
              "    <tr>\n",
              "      <th>3</th>\n",
              "      <td>2023-10-13 00:00:00</td>\n",
              "      <td>7479860.57</td>\n",
              "    </tr>\n",
              "    <tr>\n",
              "      <th>4</th>\n",
              "      <td>2023-10-12 00:00:00</td>\n",
              "      <td>7317256.87</td>\n",
              "    </tr>\n",
              "    <tr>\n",
              "      <th>5</th>\n",
              "      <td>2023-10-11 00:00:00</td>\n",
              "      <td>1204392.68</td>\n",
              "    </tr>\n",
              "    <tr>\n",
              "      <th>6</th>\n",
              "      <td>2023-10-10 00:00:00</td>\n",
              "      <td>1159347.51</td>\n",
              "    </tr>\n",
              "    <tr>\n",
              "      <th>...</th>\n",
              "      <td>...</td>\n",
              "      <td>...</td>\n",
              "    </tr>\n",
              "    <tr>\n",
              "      <th>2180</th>\n",
              "      <td>2015-01-16 00:00:00</td>\n",
              "      <td>4500958.53</td>\n",
              "    </tr>\n",
              "    <tr>\n",
              "      <th>2181</th>\n",
              "      <td>2015-01-15 00:00:00</td>\n",
              "      <td>4549984.63</td>\n",
              "    </tr>\n",
              "    <tr>\n",
              "      <th>2182</th>\n",
              "      <td>2015-01-14 00:00:00</td>\n",
              "      <td>4421167.67</td>\n",
              "    </tr>\n",
              "    <tr>\n",
              "      <th>2183</th>\n",
              "      <td>2015-01-13 00:00:00</td>\n",
              "      <td>4458150.04</td>\n",
              "    </tr>\n",
              "    <tr>\n",
              "      <th>2184</th>\n",
              "      <td>2015-01-12 00:00:00</td>\n",
              "      <td>4431673.18</td>\n",
              "    </tr>\n",
              "  </tbody>\n",
              "</table>\n",
              "<p>2183 rows × 2 columns</p>\n",
              "</div>"
            ],
            "text/plain": [
              "                 datetime total requirements\n",
              "2     2023-10-16 00:00:00          7411164.5\n",
              "3     2023-10-13 00:00:00         7479860.57\n",
              "4     2023-10-12 00:00:00         7317256.87\n",
              "5     2023-10-11 00:00:00         1204392.68\n",
              "6     2023-10-10 00:00:00         1159347.51\n",
              "...                   ...                ...\n",
              "2180  2015-01-16 00:00:00         4500958.53\n",
              "2181  2015-01-15 00:00:00         4549984.63\n",
              "2182  2015-01-14 00:00:00         4421167.67\n",
              "2183  2015-01-13 00:00:00         4458150.04\n",
              "2184  2015-01-12 00:00:00         4431673.18\n",
              "\n",
              "[2183 rows x 2 columns]"
            ]
          },
          "execution_count": 10,
          "metadata": {},
          "output_type": "execute_result"
        }
      ],
      "source": [
        "df = pd.read_excel(\"csv_files/russian_bank.xlsx\")\n",
        "df = df.drop(0)\n",
        "df = df.drop(1)\n",
        "df = df.rename(columns={\"Требования Банка России к кредитным организациям по кредитам (по оставшимся до погашения срокам), млн руб. (на начало дня)\" : \"datetime\",\n",
        "                           \"Unnamed: 1\" : \"total requirements\"})\n",
        "df = df[[\"datetime\", \"total requirements\"]]\n",
        "df"
      ]
    },
    {
      "cell_type": "markdown",
      "metadata": {
        "id": "qx-IoZ0_7y_w"
      },
      "source": [
        "Преобразуем в формат, позволяющий работать с датами"
      ]
    },
    {
      "cell_type": "code",
      "execution_count": 11,
      "metadata": {
        "colab": {
          "base_uri": "https://localhost:8080/"
        },
        "id": "bLu_lARl7jF8",
        "outputId": "56e2507b-b5bc-4d33-9759-6e7380574062"
      },
      "outputs": [
        {
          "data": {
            "text/plain": [
              "pandas._libs.tslibs.timestamps.Timestamp"
            ]
          },
          "execution_count": 11,
          "metadata": {},
          "output_type": "execute_result"
        }
      ],
      "source": [
        "df['datetime'] = pd.to_datetime(df['datetime'])\n",
        "type(df['datetime'][2])"
      ]
    },
    {
      "cell_type": "markdown",
      "metadata": {
        "id": "W6xRbaVp8RDz"
      },
      "source": [
        "Выводим информацию"
      ]
    },
    {
      "cell_type": "code",
      "execution_count": 12,
      "metadata": {
        "colab": {
          "base_uri": "https://localhost:8080/"
        },
        "id": "axoXRK-q3wT1",
        "outputId": "50efef05-a12c-4f9b-e86f-d6ced3c84071"
      },
      "outputs": [
        {
          "name": "stdout",
          "output_type": "stream",
          "text": [
            "<class 'pandas.core.frame.DataFrame'>\n",
            "RangeIndex: 2183 entries, 2 to 2184\n",
            "Data columns (total 2 columns):\n",
            " #   Column              Non-Null Count  Dtype         \n",
            "---  ------              --------------  -----         \n",
            " 0   datetime            2183 non-null   datetime64[ns]\n",
            " 1   total requirements  2183 non-null   object        \n",
            "dtypes: datetime64[ns](1), object(1)\n",
            "memory usage: 34.2+ KB\n"
          ]
        }
      ],
      "source": [
        "df.info()"
      ]
    },
    {
      "cell_type": "markdown",
      "metadata": {
        "id": "nPHxeY8u9hMx"
      },
      "source": [
        "Создаем строки с пропущенными датами"
      ]
    },
    {
      "cell_type": "code",
      "execution_count": 13,
      "metadata": {
        "colab": {
          "base_uri": "https://localhost:8080/",
          "height": 520
        },
        "id": "n8Iu8Md39DGp",
        "outputId": "b3383a91-da42-4698-8c19-f9a827cd40fe"
      },
      "outputs": [
        {
          "data": {
            "text/html": [
              "<div>\n",
              "<style scoped>\n",
              "    .dataframe tbody tr th:only-of-type {\n",
              "        vertical-align: middle;\n",
              "    }\n",
              "\n",
              "    .dataframe tbody tr th {\n",
              "        vertical-align: top;\n",
              "    }\n",
              "\n",
              "    .dataframe thead th {\n",
              "        text-align: right;\n",
              "    }\n",
              "</style>\n",
              "<table border=\"1\" class=\"dataframe\">\n",
              "  <thead>\n",
              "    <tr style=\"text-align: right;\">\n",
              "      <th></th>\n",
              "      <th>datetime</th>\n",
              "      <th>total requirements</th>\n",
              "    </tr>\n",
              "  </thead>\n",
              "  <tbody>\n",
              "    <tr>\n",
              "      <th>0</th>\n",
              "      <td>2015-01-01</td>\n",
              "      <td>NaN</td>\n",
              "    </tr>\n",
              "    <tr>\n",
              "      <th>1</th>\n",
              "      <td>2015-01-02</td>\n",
              "      <td>NaN</td>\n",
              "    </tr>\n",
              "    <tr>\n",
              "      <th>2</th>\n",
              "      <td>2015-01-03</td>\n",
              "      <td>NaN</td>\n",
              "    </tr>\n",
              "    <tr>\n",
              "      <th>3</th>\n",
              "      <td>2015-01-04</td>\n",
              "      <td>NaN</td>\n",
              "    </tr>\n",
              "    <tr>\n",
              "      <th>4</th>\n",
              "      <td>2015-01-05</td>\n",
              "      <td>NaN</td>\n",
              "    </tr>\n",
              "    <tr>\n",
              "      <th>5</th>\n",
              "      <td>2015-01-06</td>\n",
              "      <td>NaN</td>\n",
              "    </tr>\n",
              "    <tr>\n",
              "      <th>6</th>\n",
              "      <td>2015-01-07</td>\n",
              "      <td>NaN</td>\n",
              "    </tr>\n",
              "    <tr>\n",
              "      <th>7</th>\n",
              "      <td>2015-01-08</td>\n",
              "      <td>NaN</td>\n",
              "    </tr>\n",
              "    <tr>\n",
              "      <th>8</th>\n",
              "      <td>2015-01-09</td>\n",
              "      <td>NaN</td>\n",
              "    </tr>\n",
              "    <tr>\n",
              "      <th>9</th>\n",
              "      <td>2015-01-10</td>\n",
              "      <td>NaN</td>\n",
              "    </tr>\n",
              "    <tr>\n",
              "      <th>10</th>\n",
              "      <td>2015-01-11</td>\n",
              "      <td>NaN</td>\n",
              "    </tr>\n",
              "    <tr>\n",
              "      <th>11</th>\n",
              "      <td>2015-01-12</td>\n",
              "      <td>4431673.18</td>\n",
              "    </tr>\n",
              "    <tr>\n",
              "      <th>12</th>\n",
              "      <td>2015-01-13</td>\n",
              "      <td>4458150.04</td>\n",
              "    </tr>\n",
              "    <tr>\n",
              "      <th>13</th>\n",
              "      <td>2015-01-14</td>\n",
              "      <td>4421167.67</td>\n",
              "    </tr>\n",
              "    <tr>\n",
              "      <th>14</th>\n",
              "      <td>2015-01-15</td>\n",
              "      <td>4549984.63</td>\n",
              "    </tr>\n",
              "  </tbody>\n",
              "</table>\n",
              "</div>"
            ],
            "text/plain": [
              "     datetime total requirements\n",
              "0  2015-01-01                NaN\n",
              "1  2015-01-02                NaN\n",
              "2  2015-01-03                NaN\n",
              "3  2015-01-04                NaN\n",
              "4  2015-01-05                NaN\n",
              "5  2015-01-06                NaN\n",
              "6  2015-01-07                NaN\n",
              "7  2015-01-08                NaN\n",
              "8  2015-01-09                NaN\n",
              "9  2015-01-10                NaN\n",
              "10 2015-01-11                NaN\n",
              "11 2015-01-12         4431673.18\n",
              "12 2015-01-13         4458150.04\n",
              "13 2015-01-14         4421167.67\n",
              "14 2015-01-15         4549984.63"
            ]
          },
          "execution_count": 13,
          "metadata": {},
          "output_type": "execute_result"
        }
      ],
      "source": [
        "start_date = '2015-01-01'\n",
        "end_date = '2023-10-16'\n",
        "date_range = pd.date_range(start=start_date, end=end_date, freq='D')\n",
        "full_date_df = pd.DataFrame({'datetime': date_range})\n",
        "full_date_df\n",
        "df = pd.merge(full_date_df, df, on='datetime', how='left')\n",
        "df.head(15)"
      ]
    },
    {
      "cell_type": "markdown",
      "metadata": {
        "id": "zqPBZph98Arw"
      },
      "source": [
        "Делаем столбец datetime индексом"
      ]
    },
    {
      "cell_type": "code",
      "execution_count": 14,
      "metadata": {
        "colab": {
          "base_uri": "https://localhost:8080/",
          "height": 455
        },
        "id": "dE_MBl8q7iha",
        "outputId": "e890696b-ec74-4942-cb68-aeab4fbdd5ea"
      },
      "outputs": [
        {
          "data": {
            "text/html": [
              "<div>\n",
              "<style scoped>\n",
              "    .dataframe tbody tr th:only-of-type {\n",
              "        vertical-align: middle;\n",
              "    }\n",
              "\n",
              "    .dataframe tbody tr th {\n",
              "        vertical-align: top;\n",
              "    }\n",
              "\n",
              "    .dataframe thead th {\n",
              "        text-align: right;\n",
              "    }\n",
              "</style>\n",
              "<table border=\"1\" class=\"dataframe\">\n",
              "  <thead>\n",
              "    <tr style=\"text-align: right;\">\n",
              "      <th></th>\n",
              "      <th>total requirements</th>\n",
              "    </tr>\n",
              "    <tr>\n",
              "      <th>datetime</th>\n",
              "      <th></th>\n",
              "    </tr>\n",
              "  </thead>\n",
              "  <tbody>\n",
              "    <tr>\n",
              "      <th>2015-01-01</th>\n",
              "      <td>NaN</td>\n",
              "    </tr>\n",
              "    <tr>\n",
              "      <th>2015-01-02</th>\n",
              "      <td>NaN</td>\n",
              "    </tr>\n",
              "    <tr>\n",
              "      <th>2015-01-03</th>\n",
              "      <td>NaN</td>\n",
              "    </tr>\n",
              "    <tr>\n",
              "      <th>2015-01-04</th>\n",
              "      <td>NaN</td>\n",
              "    </tr>\n",
              "    <tr>\n",
              "      <th>2015-01-05</th>\n",
              "      <td>NaN</td>\n",
              "    </tr>\n",
              "    <tr>\n",
              "      <th>...</th>\n",
              "      <td>...</td>\n",
              "    </tr>\n",
              "    <tr>\n",
              "      <th>2023-10-12</th>\n",
              "      <td>7317256.87</td>\n",
              "    </tr>\n",
              "    <tr>\n",
              "      <th>2023-10-13</th>\n",
              "      <td>7479860.57</td>\n",
              "    </tr>\n",
              "    <tr>\n",
              "      <th>2023-10-14</th>\n",
              "      <td>NaN</td>\n",
              "    </tr>\n",
              "    <tr>\n",
              "      <th>2023-10-15</th>\n",
              "      <td>NaN</td>\n",
              "    </tr>\n",
              "    <tr>\n",
              "      <th>2023-10-16</th>\n",
              "      <td>7411164.5</td>\n",
              "    </tr>\n",
              "  </tbody>\n",
              "</table>\n",
              "<p>3211 rows × 1 columns</p>\n",
              "</div>"
            ],
            "text/plain": [
              "           total requirements\n",
              "datetime                     \n",
              "2015-01-01                NaN\n",
              "2015-01-02                NaN\n",
              "2015-01-03                NaN\n",
              "2015-01-04                NaN\n",
              "2015-01-05                NaN\n",
              "...                       ...\n",
              "2023-10-12         7317256.87\n",
              "2023-10-13         7479860.57\n",
              "2023-10-14                NaN\n",
              "2023-10-15                NaN\n",
              "2023-10-16          7411164.5\n",
              "\n",
              "[3211 rows x 1 columns]"
            ]
          },
          "execution_count": 14,
          "metadata": {},
          "output_type": "execute_result"
        }
      ],
      "source": [
        "df.index = df['datetime']\n",
        "del df['datetime']\n",
        "df"
      ]
    },
    {
      "cell_type": "markdown",
      "metadata": {
        "id": "aWKIyK23Ao8R"
      },
      "source": [
        "Используем bfill для заполнения пропущенных значений, так как для метода интерполяции недостаточно точек, а ffill не заполнит начальные значения. также bfill наиболее простой и быстрый и не нарушит апроксимацию данных.(он заполняет пропущенные значения значениями из следующей строки, будем считать, что в эти даты дополнительно кредиты не брались, это вполне логично, потому что банк наверняка бы документоривал все изменения)"
      ]
    },
    {
      "cell_type": "code",
      "execution_count": 15,
      "metadata": {
        "colab": {
          "base_uri": "https://localhost:8080/",
          "height": 455
        },
        "id": "8r_qJZ6k9-ib",
        "outputId": "758cdcdd-d7f0-4368-e3d5-e20fdee032d6"
      },
      "outputs": [
        {
          "data": {
            "text/html": [
              "<div>\n",
              "<style scoped>\n",
              "    .dataframe tbody tr th:only-of-type {\n",
              "        vertical-align: middle;\n",
              "    }\n",
              "\n",
              "    .dataframe tbody tr th {\n",
              "        vertical-align: top;\n",
              "    }\n",
              "\n",
              "    .dataframe thead th {\n",
              "        text-align: right;\n",
              "    }\n",
              "</style>\n",
              "<table border=\"1\" class=\"dataframe\">\n",
              "  <thead>\n",
              "    <tr style=\"text-align: right;\">\n",
              "      <th></th>\n",
              "      <th>total requirements</th>\n",
              "    </tr>\n",
              "    <tr>\n",
              "      <th>datetime</th>\n",
              "      <th></th>\n",
              "    </tr>\n",
              "  </thead>\n",
              "  <tbody>\n",
              "    <tr>\n",
              "      <th>2015-01-01</th>\n",
              "      <td>4431673.18</td>\n",
              "    </tr>\n",
              "    <tr>\n",
              "      <th>2015-01-02</th>\n",
              "      <td>4431673.18</td>\n",
              "    </tr>\n",
              "    <tr>\n",
              "      <th>2015-01-03</th>\n",
              "      <td>4431673.18</td>\n",
              "    </tr>\n",
              "    <tr>\n",
              "      <th>2015-01-04</th>\n",
              "      <td>4431673.18</td>\n",
              "    </tr>\n",
              "    <tr>\n",
              "      <th>2015-01-05</th>\n",
              "      <td>4431673.18</td>\n",
              "    </tr>\n",
              "    <tr>\n",
              "      <th>...</th>\n",
              "      <td>...</td>\n",
              "    </tr>\n",
              "    <tr>\n",
              "      <th>2023-10-12</th>\n",
              "      <td>7317256.87</td>\n",
              "    </tr>\n",
              "    <tr>\n",
              "      <th>2023-10-13</th>\n",
              "      <td>7479860.57</td>\n",
              "    </tr>\n",
              "    <tr>\n",
              "      <th>2023-10-14</th>\n",
              "      <td>7411164.50</td>\n",
              "    </tr>\n",
              "    <tr>\n",
              "      <th>2023-10-15</th>\n",
              "      <td>7411164.50</td>\n",
              "    </tr>\n",
              "    <tr>\n",
              "      <th>2023-10-16</th>\n",
              "      <td>7411164.50</td>\n",
              "    </tr>\n",
              "  </tbody>\n",
              "</table>\n",
              "<p>3211 rows × 1 columns</p>\n",
              "</div>"
            ],
            "text/plain": [
              "            total requirements\n",
              "datetime                      \n",
              "2015-01-01          4431673.18\n",
              "2015-01-02          4431673.18\n",
              "2015-01-03          4431673.18\n",
              "2015-01-04          4431673.18\n",
              "2015-01-05          4431673.18\n",
              "...                        ...\n",
              "2023-10-12          7317256.87\n",
              "2023-10-13          7479860.57\n",
              "2023-10-14          7411164.50\n",
              "2023-10-15          7411164.50\n",
              "2023-10-16          7411164.50\n",
              "\n",
              "[3211 rows x 1 columns]"
            ]
          },
          "execution_count": 15,
          "metadata": {},
          "output_type": "execute_result"
        }
      ],
      "source": [
        "df['total requirements'] = df['total requirements'].bfill()\n",
        "df"
      ]
    },
    {
      "cell_type": "code",
      "execution_count": 16,
      "metadata": {
        "colab": {
          "base_uri": "https://localhost:8080/",
          "height": 482
        },
        "id": "yFrno-Wb34li",
        "outputId": "9e411516-a45e-4fd6-8cee-68b84f266e88"
      },
      "outputs": [
        {
          "data": {
            "text/plain": [
              "Text(0, 0.5, 'Total amount of requirements')"
            ]
          },
          "execution_count": 16,
          "metadata": {},
          "output_type": "execute_result"
        },
        {
          "data": {
            "image/png": "[encoded data removed]",
            "text/plain": [
              "<Figure size 640x480 with 1 Axes>"
            ]
          },
          "metadata": {},
          "output_type": "display_data"
        }
      ],
      "source": [
        "sns.lineplot(data=df, x=df.index, y=df['total requirements']) # визуализируем временной ряд\n",
        "plt.ylabel('Total amount of requirements')"
      ]
    },
    {
      "cell_type": "markdown",
      "metadata": {
        "id": "CkXpG5zc6wxZ"
      },
      "source": [
        "Как однозначноого тренда, так и однозначной сезонности не наблюдается."
      ]
    },
    {
      "cell_type": "markdown",
      "metadata": {
        "id": "1m1N5KGMB96A"
      },
      "source": [
        "Проведем тест на стационарность"
      ]
    },
    {
      "cell_type": "code",
      "execution_count": 17,
      "metadata": {
        "colab": {
          "base_uri": "https://localhost:8080/"
        },
        "id": "ZbKr0NUYCARh",
        "outputId": "a1a3a0f5-0c46-414e-9ce8-6421fbab5e23"
      },
      "outputs": [
        {
          "name": "stdout",
          "output_type": "stream",
          "text": [
            "p-value:  0.017097107801377243\n"
          ]
        }
      ],
      "source": [
        "from statsmodels.tsa.stattools import adfuller #Тест Дики — Фуллера на стационарность\n",
        "adft = adfuller(df)\n",
        "print('p-value: ', adft[1])"
      ]
    },
    {
      "cell_type": "markdown",
      "metadata": {
        "id": "KKS8FiXrCGqo"
      },
      "source": [
        "P-value < 0.05, значит, этот ряд стационарный. По графику видно, что тренд у него выделить сложно, поэтому дополнительно приводить его к стационарному виду не имеет смысла."
      ]
    },
    {
      "cell_type": "markdown",
      "metadata": {
        "id": "RLQlWF0cDZpe"
      },
      "source": [
        "Rоэффициент автокорреляции с лагом 1:"
      ]
    },
    {
      "cell_type": "code",
      "execution_count": 18,
      "metadata": {
        "colab": {
          "base_uri": "https://localhost:8080/"
        },
        "id": "a5-PCu9bDKn_",
        "outputId": "3dfcab40-76da-4c9e-da72-0328c7f678ca"
      },
      "outputs": [
        {
          "name": "stdout",
          "output_type": "stream",
          "text": [
            "One Day Lag:  0.9501188451724579\n"
          ]
        }
      ],
      "source": [
        "autocorrelation_lag1 = df['total requirements'].autocorr(lag=1)\n",
        "print(\"One Day Lag: \", autocorrelation_lag1)"
      ]
    },
    {
      "cell_type": "code",
      "execution_count": 19,
      "metadata": {
        "colab": {
          "base_uri": "https://localhost:8080/"
        },
        "id": "dZjIJ-JZDlYt",
        "outputId": "5bec5e2e-a888-4175-ea86-dd987e257d94"
      },
      "outputs": [
        {
          "name": "stdout",
          "output_type": "stream",
          "text": [
            "14 Day Month Lag:  0.7959503302834243\n",
            "One Month Lag:  0.8418820722476595\n",
            "Three Month Lag:  0.7336726103306754\n"
          ]
        }
      ],
      "source": [
        "autocorrelation_lag3 = df['total requirements'].autocorr(lag=14)#коэффициент автокорреляции с лагом 3\n",
        "print(\"14 Day Month Lag: \", autocorrelation_lag3)\n",
        "\n",
        "autocorrelation_lag6 = df['total requirements'].autocorr(lag=30) #коэффициент автокорреляции с лагом 6\n",
        "print(\"One Month Lag: \", autocorrelation_lag6)\n",
        "\n",
        "autocorrelation_lag9 = df['total requirements'].autocorr(lag=90) #коэффициент автокорреляции с лагом 9\n",
        "print(\"Three Month Lag: \", autocorrelation_lag9)"
      ]
    },
    {
      "cell_type": "code",
      "execution_count": 20,
      "metadata": {
        "colab": {
          "base_uri": "https://localhost:8080/",
          "height": 391
        },
        "id": "oLwuQgn-Duok",
        "outputId": "63701f2e-dadd-4392-bd4b-6f18461bd939"
      },
      "outputs": [
        {
          "data": {
            "image/png": "[encoded data removed]",
            "text/plain": [
              "<Figure size 1600x400 with 2 Axes>"
            ]
          },
          "metadata": {},
          "output_type": "display_data"
        }
      ],
      "source": [
        "fig, axes = plt.subplots(1,2,figsize=(16,4), dpi= 100)\n",
        "plot_acf(df['total requirements'], lags=50, ax=axes[0])\n",
        "plot_pacf(df['total requirements'], lags=50, ax=axes[1])\n",
        "plt.show()"
      ]
    },
    {
      "cell_type": "markdown",
      "metadata": {
        "id": "LjZ-C8Q5EoLN"
      },
      "source": [
        "Так как определенного тренда у нас не было обнаружено, можно заметить, что резкого убывания нет, сезонности тоже не было, поэтому возрастания в середени можно просто классифицировать как разовый какой-то выброс из-за какого-то разового фактора, например кризиса или резкой инфляции в стране."
      ]
    },
    {
      "cell_type": "markdown",
      "metadata": {
        "id": "xHObrSMiGTDY"
      },
      "source": [
        "Разобьем выборку на две подвыборки: обучающую (до середины 2023 года)"
      ]
    },
    {
      "cell_type": "code",
      "execution_count": 21,
      "metadata": {
        "colab": {
          "base_uri": "https://localhost:8080/",
          "height": 455
        },
        "id": "GZTotZZXFDpb",
        "outputId": "0d97c76e-aee4-427c-f46a-350335494e54"
      },
      "outputs": [
        {
          "data": {
            "text/html": [
              "<div>\n",
              "<style scoped>\n",
              "    .dataframe tbody tr th:only-of-type {\n",
              "        vertical-align: middle;\n",
              "    }\n",
              "\n",
              "    .dataframe tbody tr th {\n",
              "        vertical-align: top;\n",
              "    }\n",
              "\n",
              "    .dataframe thead th {\n",
              "        text-align: right;\n",
              "    }\n",
              "</style>\n",
              "<table border=\"1\" class=\"dataframe\">\n",
              "  <thead>\n",
              "    <tr style=\"text-align: right;\">\n",
              "      <th></th>\n",
              "      <th>train</th>\n",
              "    </tr>\n",
              "    <tr>\n",
              "      <th>datetime</th>\n",
              "      <th></th>\n",
              "    </tr>\n",
              "  </thead>\n",
              "  <tbody>\n",
              "    <tr>\n",
              "      <th>2015-01-01</th>\n",
              "      <td>4431673.18</td>\n",
              "    </tr>\n",
              "    <tr>\n",
              "      <th>2015-01-02</th>\n",
              "      <td>4431673.18</td>\n",
              "    </tr>\n",
              "    <tr>\n",
              "      <th>2015-01-03</th>\n",
              "      <td>4431673.18</td>\n",
              "    </tr>\n",
              "    <tr>\n",
              "      <th>2015-01-04</th>\n",
              "      <td>4431673.18</td>\n",
              "    </tr>\n",
              "    <tr>\n",
              "      <th>2015-01-05</th>\n",
              "      <td>4431673.18</td>\n",
              "    </tr>\n",
              "    <tr>\n",
              "      <th>...</th>\n",
              "      <td>...</td>\n",
              "    </tr>\n",
              "    <tr>\n",
              "      <th>2023-06-26</th>\n",
              "      <td>457888.77</td>\n",
              "    </tr>\n",
              "    <tr>\n",
              "      <th>2023-06-27</th>\n",
              "      <td>507903.88</td>\n",
              "    </tr>\n",
              "    <tr>\n",
              "      <th>2023-06-28</th>\n",
              "      <td>457657.78</td>\n",
              "    </tr>\n",
              "    <tr>\n",
              "      <th>2023-06-29</th>\n",
              "      <td>772232.57</td>\n",
              "    </tr>\n",
              "    <tr>\n",
              "      <th>2023-06-30</th>\n",
              "      <td>865533.26</td>\n",
              "    </tr>\n",
              "  </tbody>\n",
              "</table>\n",
              "<p>3103 rows × 1 columns</p>\n",
              "</div>"
            ],
            "text/plain": [
              "                 train\n",
              "datetime              \n",
              "2015-01-01  4431673.18\n",
              "2015-01-02  4431673.18\n",
              "2015-01-03  4431673.18\n",
              "2015-01-04  4431673.18\n",
              "2015-01-05  4431673.18\n",
              "...                ...\n",
              "2023-06-26   457888.77\n",
              "2023-06-27   507903.88\n",
              "2023-06-28   457657.78\n",
              "2023-06-29   772232.57\n",
              "2023-06-30   865533.26\n",
              "\n",
              "[3103 rows x 1 columns]"
            ]
          },
          "execution_count": 21,
          "metadata": {},
          "output_type": "execute_result"
        }
      ],
      "source": [
        "df = pd.read_excel(\"csv_files/russian_bank.xlsx\")\n",
        "df = df.drop(0)\n",
        "df = df.drop(1)\n",
        "df = df.rename(columns={\"Требования Банка России к кредитным организациям по кредитам (по оставшимся до погашения срокам), млн руб. (на начало дня)\" : \"datetime\",\n",
        "                           \"Unnamed: 1\" : \"total requirements\"})\n",
        "df = df[[\"datetime\", \"total requirements\"]]\n",
        "df['datetime'] = pd.to_datetime(df['datetime'])\n",
        "start_date = '2015-01-01'\n",
        "end_date = '2023-10-16'\n",
        "date_range = pd.date_range(start=start_date, end=end_date, freq='D')\n",
        "full_date_df = pd.DataFrame({'datetime': date_range})\n",
        "df = pd.merge(full_date_df, df, on='datetime', how='left')\n",
        "df.index = df['datetime']\n",
        "\n",
        "df['total requirements'] = df['total requirements'].bfill()\n",
        "del df['datetime']\n",
        "df\n",
        "df['Date'] = df.index\n",
        "train = df[df['Date'] < \"2023-07-01\"]\n",
        "del train['Date']\n",
        "train = train.rename(columns={'total requirements': 'train'})\n",
        "train"
      ]
    },
    {
      "cell_type": "markdown",
      "metadata": {
        "id": "ouQ1O4nuGZ6V"
      },
      "source": [
        "И тестовую (с середины 2023 года):"
      ]
    },
    {
      "cell_type": "code",
      "execution_count": 22,
      "metadata": {
        "colab": {
          "base_uri": "https://localhost:8080/",
          "height": 455
        },
        "id": "3_4dYgbBGGmY",
        "outputId": "df8e5907-84c8-4a25-a6a7-c30ad1c7daa3"
      },
      "outputs": [
        {
          "data": {
            "text/html": [
              "<div>\n",
              "<style scoped>\n",
              "    .dataframe tbody tr th:only-of-type {\n",
              "        vertical-align: middle;\n",
              "    }\n",
              "\n",
              "    .dataframe tbody tr th {\n",
              "        vertical-align: top;\n",
              "    }\n",
              "\n",
              "    .dataframe thead th {\n",
              "        text-align: right;\n",
              "    }\n",
              "</style>\n",
              "<table border=\"1\" class=\"dataframe\">\n",
              "  <thead>\n",
              "    <tr style=\"text-align: right;\">\n",
              "      <th></th>\n",
              "      <th>test</th>\n",
              "    </tr>\n",
              "    <tr>\n",
              "      <th>datetime</th>\n",
              "      <th></th>\n",
              "    </tr>\n",
              "  </thead>\n",
              "  <tbody>\n",
              "    <tr>\n",
              "      <th>2023-07-01</th>\n",
              "      <td>878377.30</td>\n",
              "    </tr>\n",
              "    <tr>\n",
              "      <th>2023-07-02</th>\n",
              "      <td>878377.30</td>\n",
              "    </tr>\n",
              "    <tr>\n",
              "      <th>2023-07-03</th>\n",
              "      <td>878377.30</td>\n",
              "    </tr>\n",
              "    <tr>\n",
              "      <th>2023-07-04</th>\n",
              "      <td>791368.34</td>\n",
              "    </tr>\n",
              "    <tr>\n",
              "      <th>2023-07-05</th>\n",
              "      <td>815788.99</td>\n",
              "    </tr>\n",
              "    <tr>\n",
              "      <th>...</th>\n",
              "      <td>...</td>\n",
              "    </tr>\n",
              "    <tr>\n",
              "      <th>2023-10-12</th>\n",
              "      <td>7317256.87</td>\n",
              "    </tr>\n",
              "    <tr>\n",
              "      <th>2023-10-13</th>\n",
              "      <td>7479860.57</td>\n",
              "    </tr>\n",
              "    <tr>\n",
              "      <th>2023-10-14</th>\n",
              "      <td>7411164.50</td>\n",
              "    </tr>\n",
              "    <tr>\n",
              "      <th>2023-10-15</th>\n",
              "      <td>7411164.50</td>\n",
              "    </tr>\n",
              "    <tr>\n",
              "      <th>2023-10-16</th>\n",
              "      <td>7411164.50</td>\n",
              "    </tr>\n",
              "  </tbody>\n",
              "</table>\n",
              "<p>108 rows × 1 columns</p>\n",
              "</div>"
            ],
            "text/plain": [
              "                  test\n",
              "datetime              \n",
              "2023-07-01   878377.30\n",
              "2023-07-02   878377.30\n",
              "2023-07-03   878377.30\n",
              "2023-07-04   791368.34\n",
              "2023-07-05   815788.99\n",
              "...                ...\n",
              "2023-10-12  7317256.87\n",
              "2023-10-13  7479860.57\n",
              "2023-10-14  7411164.50\n",
              "2023-10-15  7411164.50\n",
              "2023-10-16  7411164.50\n",
              "\n",
              "[108 rows x 1 columns]"
            ]
          },
          "execution_count": 22,
          "metadata": {},
          "output_type": "execute_result"
        }
      ],
      "source": [
        "test = df[df['Date'] >= \"2023-07-01\"]\n",
        "del test['Date']\n",
        "test = test.rename(columns={'total requirements': 'test'})\n",
        "test"
      ]
    },
    {
      "cell_type": "code",
      "execution_count": 23,
      "metadata": {
        "colab": {
          "base_uri": "https://localhost:8080/",
          "height": 480
        },
        "id": "F35NvWLbGGVl",
        "outputId": "13449fb2-93a6-48af-ffe6-5cb17384fe25"
      },
      "outputs": [
        {
          "data": {
            "image/png": "[encoded data removed]",
            "text/plain": [
              "<Figure size 640x480 with 1 Axes>"
            ]
          },
          "metadata": {},
          "output_type": "display_data"
        }
      ],
      "source": [
        "plt.plot(train, color = \"black\") #обучающая выборка\n",
        "plt.plot(test, color = \"red\") #тестовая выборка\n",
        "plt.title(\"Train/Test split for requirements Data\")\n",
        "plt.ylabel(\"amount of requirements\")\n",
        "plt.xlabel('Year-Month')\n",
        "sns.set()\n",
        "plt.show()"
      ]
    },
    {
      "cell_type": "markdown",
      "metadata": {
        "id": "tKXC6BVLHUe1"
      },
      "source": [
        "Поскольку у нас нет тренда или сезонности, предсказание может быть не точным, поэтому не будем выделять слишком большую часть для тестовой выборки иначе результаты будут слишком далеки от правды, потому что тенденция выбросов начинается примерно с 2022 года, для этого небольшую часть таких выбросов мы и включаем вместе с 2022 годом."
      ]
    },
    {
      "cell_type": "markdown",
      "metadata": {
        "id": "2750FGfIH9DY"
      },
      "source": [
        "Построим модель ARIMA:"
      ]
    },
    {
      "cell_type": "code",
      "execution_count": 24,
      "metadata": {
        "colab": {
          "base_uri": "https://localhost:8080/"
        },
        "id": "t9e2W8CrHNfh",
        "outputId": "092fc885-9ce6-4fe1-f050-dea78af11bd9"
      },
      "outputs": [
        {
          "name": "stdout",
          "output_type": "stream",
          "text": [
            "Performing stepwise search to minimize aic\n",
            " ARIMA(2,1,2)(0,0,0)[0] intercept   : AIC=81493.165, Time=2.90 sec\n",
            " ARIMA(0,1,0)(0,0,0)[0] intercept   : AIC=81577.172, Time=0.14 sec\n",
            " ARIMA(1,1,0)(0,0,0)[0] intercept   : AIC=81508.228, Time=0.30 sec\n",
            " ARIMA(0,1,1)(0,0,0)[0] intercept   : AIC=81498.715, Time=0.40 sec\n",
            " ARIMA(0,1,0)(0,0,0)[0]             : AIC=81575.438, Time=0.09 sec\n"
          ]
        },
        {
          "name": "stdout",
          "output_type": "stream",
          "text": [
            " ARIMA(1,1,2)(0,0,0)[0] intercept   : AIC=81491.291, Time=1.64 sec\n",
            " ARIMA(0,1,2)(0,0,0)[0] intercept   : AIC=81489.337, Time=0.59 sec\n",
            " ARIMA(0,1,3)(0,0,0)[0] intercept   : AIC=81491.170, Time=0.71 sec\n",
            " ARIMA(1,1,1)(0,0,0)[0] intercept   : AIC=81490.542, Time=0.60 sec\n",
            " ARIMA(1,1,3)(0,0,0)[0] intercept   : AIC=81491.376, Time=2.04 sec\n",
            " ARIMA(0,1,2)(0,0,0)[0]             : AIC=81487.464, Time=0.40 sec\n",
            " ARIMA(0,1,1)(0,0,0)[0]             : AIC=81496.899, Time=0.22 sec\n",
            " ARIMA(1,1,2)(0,0,0)[0]             : AIC=81489.374, Time=1.45 sec\n",
            " ARIMA(0,1,3)(0,0,0)[0]             : AIC=81489.287, Time=0.53 sec\n",
            " ARIMA(1,1,1)(0,0,0)[0]             : AIC=81488.231, Time=0.94 sec\n",
            " ARIMA(1,1,3)(0,0,0)[0]             : AIC=81489.645, Time=1.59 sec\n",
            "\n",
            "Best model:  ARIMA(0,1,2)(0,0,0)[0]          \n",
            "Total fit time: 14.581 seconds\n"
          ]
        }
      ],
      "source": [
        "model = auto_arima(train, trace=True, error_action='ignore', suppress_warnings=True)\n",
        "model.fit(train)\n",
        "forecast = model.predict(n_periods=len(test))\n",
        "forecast = pd.DataFrame(forecast,index = test.index,columns=['Prediction'])"
      ]
    },
    {
      "cell_type": "markdown",
      "metadata": {
        "id": "m26mNhZ4MEW-"
      },
      "source": [
        "Перебор останавливается на модели (0,1,2), которую и будем испольщовать в дальнейшем, поскольку она определилась как оптимальная, p = 0, q = 1, d = 2."
      ]
    },
    {
      "cell_type": "code",
      "execution_count": 25,
      "metadata": {
        "colab": {
          "base_uri": "https://localhost:8080/",
          "height": 480
        },
        "id": "NYc0AJTZIGZr",
        "outputId": "6d847a49-b6cc-43b8-ba29-82c421ac600b"
      },
      "outputs": [
        {
          "data": {
            "image/png": "[encoded data removed]",
            "text/plain": [
              "<Figure size 640x480 with 1 Axes>"
            ]
          },
          "metadata": {},
          "output_type": "display_data"
        }
      ],
      "source": [
        "plt.plot(train, label='Train')\n",
        "plt.plot(test, label='Test')\n",
        "plt.plot(forecast, label='Prediction')\n",
        "plt.title('Requirements Prediction')\n",
        "plt.xlabel('Date')\n",
        "plt.ylabel('Actual Requirements')\n",
        "plt.legend(loc='upper left', fontsize=8)\n",
        "plt.show()"
      ]
    },
    {
      "cell_type": "markdown",
      "metadata": {
        "id": "1YWCKmJILmGL"
      },
      "source": [
        "Модель, очевидно получилась так себе по качеству, потому что по обучающей выборке сделать правильное предсказание было невозможно."
      ]
    },
    {
      "cell_type": "code",
      "execution_count": 26,
      "metadata": {
        "colab": {
          "base_uri": "https://localhost:8080/",
          "height": 1000
        },
        "id": "LzID8Pn_NHpm",
        "outputId": "02a4446b-a3bd-4c2a-a48a-2a4eb7a96259"
      },
      "outputs": [
        {
          "name": "stdout",
          "output_type": "stream",
          "text": [
            "Performing stepwise search to minimize aic\n"
          ]
        },
        {
          "name": "stdout",
          "output_type": "stream",
          "text": [
            " ARIMA(2,1,2)(0,0,0)[0] intercept   : AIC=90088.034, Time=2.32 sec\n",
            " ARIMA(0,1,0)(0,0,0)[0] intercept   : AIC=90380.936, Time=0.11 sec\n",
            " ARIMA(1,1,0)(0,0,0)[0] intercept   : AIC=90292.405, Time=0.29 sec\n",
            " ARIMA(0,1,1)(0,0,0)[0] intercept   : AIC=90288.876, Time=0.22 sec\n",
            " ARIMA(0,1,0)(0,0,0)[0]             : AIC=90378.964, Time=0.08 sec\n",
            " ARIMA(1,1,2)(0,0,0)[0] intercept   : AIC=90162.906, Time=1.84 sec\n",
            " ARIMA(2,1,1)(0,0,0)[0] intercept   : AIC=90159.179, Time=1.53 sec\n",
            " ARIMA(3,1,2)(0,0,0)[0] intercept   : AIC=90083.232, Time=3.41 sec\n",
            " ARIMA(3,1,1)(0,0,0)[0] intercept   : AIC=90139.473, Time=1.96 sec\n",
            " ARIMA(4,1,2)(0,0,0)[0] intercept   : AIC=90078.135, Time=4.63 sec\n",
            " ARIMA(4,1,1)(0,0,0)[0] intercept   : AIC=90133.030, Time=2.32 sec\n",
            " ARIMA(5,1,2)(0,0,0)[0] intercept   : AIC=90081.680, Time=3.98 sec\n",
            " ARIMA(4,1,3)(0,0,0)[0] intercept   : AIC=90078.473, Time=5.38 sec\n",
            " ARIMA(3,1,3)(0,0,0)[0] intercept   : AIC=90107.011, Time=6.15 sec\n",
            " ARIMA(5,1,1)(0,0,0)[0] intercept   : AIC=90101.734, Time=2.87 sec\n",
            " ARIMA(5,1,3)(0,0,0)[0] intercept   : AIC=90067.525, Time=5.43 sec\n",
            " ARIMA(5,1,4)(0,0,0)[0] intercept   : AIC=90056.075, Time=6.01 sec\n",
            " ARIMA(4,1,4)(0,0,0)[0] intercept   : AIC=90004.190, Time=8.69 sec\n",
            " ARIMA(3,1,4)(0,0,0)[0] intercept   : AIC=90073.097, Time=5.91 sec\n",
            " ARIMA(4,1,5)(0,0,0)[0] intercept   : AIC=90049.968, Time=6.00 sec\n",
            " ARIMA(3,1,5)(0,0,0)[0] intercept   : AIC=90051.166, Time=4.72 sec\n",
            " ARIMA(5,1,5)(0,0,0)[0] intercept   : AIC=90026.868, Time=10.47 sec\n",
            " ARIMA(4,1,4)(0,0,0)[0]             : AIC=90003.627, Time=7.97 sec\n",
            " ARIMA(3,1,4)(0,0,0)[0]             : AIC=90051.270, Time=6.39 sec\n",
            " ARIMA(4,1,3)(0,0,0)[0]             : AIC=90059.926, Time=6.54 sec\n",
            " ARIMA(5,1,4)(0,0,0)[0]             : AIC=90051.466, Time=4.74 sec\n",
            " ARIMA(4,1,5)(0,0,0)[0]             : AIC=90047.286, Time=6.56 sec\n",
            " ARIMA(3,1,3)(0,0,0)[0]             : AIC=90057.418, Time=5.44 sec\n",
            " ARIMA(3,1,5)(0,0,0)[0]             : AIC=90048.347, Time=4.23 sec\n",
            " ARIMA(5,1,3)(0,0,0)[0]             : AIC=90060.714, Time=4.06 sec\n",
            " ARIMA(5,1,5)(0,0,0)[0]             : AIC=90024.562, Time=9.54 sec\n",
            "\n",
            "Best model:  ARIMA(4,1,4)(0,0,0)[0]          \n",
            "Total fit time: 139.842 seconds\n"
          ]
        },
        {
          "data": {
            "image/png": "[encoded data removed]",
            "text/plain": [
              "<Figure size 640x480 with 1 Axes>"
            ]
          },
          "metadata": {},
          "output_type": "display_data"
        }
      ],
      "source": [
        "full_data = pd.concat([train['train'], test['test']], axis=0)\n",
        "model = auto_arima(full_data, trace=True, error_action='ignore', suppress_warnings=True)\n",
        "model.fit(full_data)\n",
        "forecast = model.predict(n_periods=30)\n",
        "forecast_df = pd.DataFrame(forecast, index=pd.date_range(start=test.index[-1], periods=31)[1:], columns=['Prediction'])\n",
        "plt.plot(train, label='Train')\n",
        "plt.plot(test, label='Test')\n",
        "plt.plot(forecast, label='Prediction')\n",
        "plt.title('Requirements Prediction')\n",
        "plt.xlabel('Date')\n",
        "plt.ylabel('Actual Requirements')\n",
        "plt.legend(loc='upper left', fontsize=8)\n",
        "plt.show()"
      ]
    },
    {
      "cell_type": "markdown",
      "metadata": {
        "id": "kmx6sffCPTEV"
      },
      "source": [
        "Обучив модель сразу и на тестой и на обучающей выборках, предсказание на следующие 30 периолдов можно назвать вполне реалистичными, потому что участки быстрого роста обычно заканчиваются участками быстрого спада."
      ]
    }
  ],
  "metadata": {
    "colab": {
      "provenance": []
    },
    "kernelspec": {
      "display_name": "Python 3",
      "name": "python3"
    },
    "language_info": {
      "codemirror_mode": {
        "name": "ipython",
        "version": 3
      },
      "file_extension": ".py",
      "mimetype": "text/x-python",
      "name": "python",
      "nbconvert_exporter": "python",
      "pygments_lexer": "ipython3",
      "version": "3.10.12"
    }
  },
  "nbformat": 4,
  "nbformat_minor": 0
}
