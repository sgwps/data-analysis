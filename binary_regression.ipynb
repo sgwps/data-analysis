{
  "cells": [
    {
      "cell_type": "markdown",
      "metadata": {
        "id": "oquIjvXxig3V"
      },
      "source": [
        "# Бинарная регрессия"
      ]
    },
    {
      "cell_type": "markdown",
      "metadata": {
        "id": "4B6P0TzAig3X"
      },
      "source": [
        "В файле bank-additional-full.csv содержаться данные о маркетинговой кампании банка.\n",
        "\n",
        "Описание переменных\n",
        "\n",
        "Bank client data:\n",
        "\n",
        "    •\tage (numeric)\n",
        "    •\tjob : type of job (categorical)\n",
        "    •\tmarital : marital status (categorical)\n",
        "    •\teducation (categorical)\n",
        "    •\tdefault: has credit in default? (categorical)\n",
        "    •\thousing: has housing loan? (categorical)\n",
        "    •\tloan: has personal loan? (categorical)\n",
        "\n",
        "Related with the last contact of the current campaign:\n",
        "\n",
        "    •\tcontact: contact communication type (categorical)\n",
        "    •\tmonth: last contact month of year (categorical)\n",
        "    •\tday_of_week: last contact day of the week (categorical)\n",
        "    •\tduration: last contact duration, in seconds (numeric). Important note: this attribute highly affects the output target (e.g., if duration=0 then y='no'). Yet, the duration is not known before a call is performed. Also, after the end of the call y is obviously known. Thus, this input should only be included for benchmark purposes and should be discarded if the intention is to have a realistic predictive model.\n",
        "\n",
        "Other attributes:\n",
        "\n",
        "    •\tcampaign: number of contacts performed during this campaign and for this client (numeric, includes last contact)\n",
        "    •\tpdays: number of days that passed by after the client was last contacted from a previous campaign (numeric; 999 means client was not previously contacted)\n",
        "    •\tprevious: number of contacts performed before this campaign and for this client (numeric)\n",
        "    •\tpoutcome: outcome of the previous marketing campaign (categorical)\n",
        "\n",
        "Social and economic context attributes:\n",
        "\n",
        "    •\temp.var.rate: employment variation rate - quarterly indicator (numeric)\n",
        "    •\tcons.price.idx: consumer price index - monthly indicator (numeric)\n",
        "    •\tcons.conf.idx: consumer confidence index - monthly indicator (numeric)\n",
        "    •\teuribor3m: euribor 3 month rate - daily indicator (numeric)\n",
        "    •\tnr.employed: number of employees - quarterly indicator (numeric)\n",
        "\n",
        "Output variable (desired target):\n",
        "\n",
        "    •\ty - has the client subscribed a term deposit? (binary: 'yes','no')"
      ]
    },
    {
      "cell_type": "markdown",
      "metadata": {
        "id": "6C70A8AKpmn5"
      },
      "source": [
        "# 1. Гипотезы\n"
      ]
    },
    {
      "cell_type": "markdown",
      "metadata": {
        "id": "8vJo3Iboa2J4"
      },
      "source": [
        "\n",
        "1. **job**\n",
        "   - **H0 (нулевая гипотеза):** Нет статистически значимой зависимости между подпиской на срочный депозит и родом деятельности клиента.\n",
        "   - **H1 (альтернативная гипотеза):** Существует статистически значимая зависимость между подпиской на срочный депозит и родом деятельности клиента.\n",
        "\n",
        "2. **marital**\n",
        "   - **H0 (нулевая гипотеза):** Нет статистически значимой зависимости между подпиской на срочный депозит и семейным положением клиента.\n",
        "   - **H1 (альтернативная гипотеза):** Существует статистически значимая зависимость между подпиской на срочный депозит и семейным положением клиента.\n",
        "\n",
        "3. **nr.employed**\n",
        "   - **H0 (нулевая гипотеза):** Нет статистически значимой зависимости между подпиской на срочный депозит и числом сотрудников в фирме клиента.\n",
        "   - **H1 (альтернативная гипотеза):** Существует статистически значимая зависимость между подпиской на срочный депозит и числом сотрудников в фирме.\n",
        "\n",
        "4. **age**\n",
        "   - **H0 (нулевая гипотеза):** Нет статистически значимой зависимости между подпиской на срочный депозит и возрастом клиента.\n",
        "   - **H1 (альтернативная гипотеза):** Существует статистически значимая зависимость между подпиской на срочный депозит и возрастом клиента.\n",
        "\n",
        "5. **education**\n",
        "   - **H0 (нулевая гипотеза):** Нет статистически значимой зависимости между подпиской на срочный депозит и уровнем образования клиента.\n",
        "   - **H1 (альтернативная гипотеза):** Существует статистически значимая зависимость между подпиской на срочный депозит и уровнем образования клиента.\n",
        "\n",
        "6. **previous**\n",
        "   - **H0 (нулевая гипотеза):** Нет статистически значимой зависимости между подпиской на срочный депозит и количеством контактов выполненных до этой компании клиента.\n",
        "   - **H1 (альтернативная гипотеза):** Существует статистически значимая зависимость между подпиской на срочный депозит и количеством контактов выполненных до этой компании клиента.\n",
        "\n",
        "Эти гипотезы могут быть использованы для проведения соответствующих статистических тестов с целью выявления влияния каждой из независимых переменных на подписку на срочный депозит."
      ]
    },
    {
      "cell_type": "markdown",
      "metadata": {
        "id": "vgFbrDYPvwkH"
      },
      "source": [
        "# 2. Модель"
      ]
    },
    {
      "cell_type": "code",
      "execution_count": 50,
      "metadata": {
        "id": "BzWsXZQrwKzq"
      },
      "outputs": [],
      "source": [
        "import pandas as pd\n",
        "import seaborn as sns\n",
        "import matplotlib.pyplot as plt\n",
        "from scipy import stats\n",
        "import numpy as np\n",
        "import statsmodels.api as sm\n",
        "from statsmodels.stats.outliers_influence import variance_inflation_factor as vif\n",
        "from sklearn.metrics import roc_curve, auc\n",
        "\n",
        "df = pd.read_csv('csv_files/bank-additional-full.csv', sep = ';')"
      ]
    },
    {
      "cell_type": "markdown",
      "metadata": {
        "id": "tgAsFebnIfTA"
      },
      "source": [
        "### Общие данные:"
      ]
    },
    {
      "cell_type": "code",
      "execution_count": 51,
      "metadata": {
        "colab": {
          "base_uri": "https://localhost:8080/",
          "height": 0
        },
        "id": "OnR64tkxv1S-",
        "outputId": "15121bf0-f18f-46ff-cd3b-48de76361f91"
      },
      "outputs": [
        {
          "data": {
            "text/html": [
              "<div>\n",
              "<style scoped>\n",
              "    .dataframe tbody tr th:only-of-type {\n",
              "        vertical-align: middle;\n",
              "    }\n",
              "\n",
              "    .dataframe tbody tr th {\n",
              "        vertical-align: top;\n",
              "    }\n",
              "\n",
              "    .dataframe thead th {\n",
              "        text-align: right;\n",
              "    }\n",
              "</style>\n",
              "<table border=\"1\" class=\"dataframe\">\n",
              "  <thead>\n",
              "    <tr style=\"text-align: right;\">\n",
              "      <th></th>\n",
              "      <th>age</th>\n",
              "      <th>job</th>\n",
              "      <th>marital</th>\n",
              "      <th>education</th>\n",
              "      <th>default</th>\n",
              "      <th>housing</th>\n",
              "      <th>loan</th>\n",
              "      <th>contact</th>\n",
              "      <th>month</th>\n",
              "      <th>day_of_week</th>\n",
              "      <th>...</th>\n",
              "      <th>campaign</th>\n",
              "      <th>pdays</th>\n",
              "      <th>previous</th>\n",
              "      <th>poutcome</th>\n",
              "      <th>emp.var.rate</th>\n",
              "      <th>cons.price.idx</th>\n",
              "      <th>cons.conf.idx</th>\n",
              "      <th>euribor3m</th>\n",
              "      <th>nr.employed</th>\n",
              "      <th>y</th>\n",
              "    </tr>\n",
              "  </thead>\n",
              "  <tbody>\n",
              "    <tr>\n",
              "      <th>0</th>\n",
              "      <td>56</td>\n",
              "      <td>housemaid</td>\n",
              "      <td>married</td>\n",
              "      <td>basic.4y</td>\n",
              "      <td>no</td>\n",
              "      <td>no</td>\n",
              "      <td>no</td>\n",
              "      <td>telephone</td>\n",
              "      <td>may</td>\n",
              "      <td>mon</td>\n",
              "      <td>...</td>\n",
              "      <td>1</td>\n",
              "      <td>999</td>\n",
              "      <td>0</td>\n",
              "      <td>nonexistent</td>\n",
              "      <td>1.1</td>\n",
              "      <td>93.994</td>\n",
              "      <td>-36.4</td>\n",
              "      <td>4.857</td>\n",
              "      <td>5191.0</td>\n",
              "      <td>no</td>\n",
              "    </tr>\n",
              "    <tr>\n",
              "      <th>1</th>\n",
              "      <td>57</td>\n",
              "      <td>services</td>\n",
              "      <td>married</td>\n",
              "      <td>high.school</td>\n",
              "      <td>unknown</td>\n",
              "      <td>no</td>\n",
              "      <td>no</td>\n",
              "      <td>telephone</td>\n",
              "      <td>may</td>\n",
              "      <td>mon</td>\n",
              "      <td>...</td>\n",
              "      <td>1</td>\n",
              "      <td>999</td>\n",
              "      <td>0</td>\n",
              "      <td>nonexistent</td>\n",
              "      <td>1.1</td>\n",
              "      <td>93.994</td>\n",
              "      <td>-36.4</td>\n",
              "      <td>4.857</td>\n",
              "      <td>5191.0</td>\n",
              "      <td>no</td>\n",
              "    </tr>\n",
              "    <tr>\n",
              "      <th>2</th>\n",
              "      <td>37</td>\n",
              "      <td>services</td>\n",
              "      <td>married</td>\n",
              "      <td>high.school</td>\n",
              "      <td>no</td>\n",
              "      <td>yes</td>\n",
              "      <td>no</td>\n",
              "      <td>telephone</td>\n",
              "      <td>may</td>\n",
              "      <td>mon</td>\n",
              "      <td>...</td>\n",
              "      <td>1</td>\n",
              "      <td>999</td>\n",
              "      <td>0</td>\n",
              "      <td>nonexistent</td>\n",
              "      <td>1.1</td>\n",
              "      <td>93.994</td>\n",
              "      <td>-36.4</td>\n",
              "      <td>4.857</td>\n",
              "      <td>5191.0</td>\n",
              "      <td>no</td>\n",
              "    </tr>\n",
              "    <tr>\n",
              "      <th>3</th>\n",
              "      <td>40</td>\n",
              "      <td>admin.</td>\n",
              "      <td>married</td>\n",
              "      <td>basic.6y</td>\n",
              "      <td>no</td>\n",
              "      <td>no</td>\n",
              "      <td>no</td>\n",
              "      <td>telephone</td>\n",
              "      <td>may</td>\n",
              "      <td>mon</td>\n",
              "      <td>...</td>\n",
              "      <td>1</td>\n",
              "      <td>999</td>\n",
              "      <td>0</td>\n",
              "      <td>nonexistent</td>\n",
              "      <td>1.1</td>\n",
              "      <td>93.994</td>\n",
              "      <td>-36.4</td>\n",
              "      <td>4.857</td>\n",
              "      <td>5191.0</td>\n",
              "      <td>no</td>\n",
              "    </tr>\n",
              "    <tr>\n",
              "      <th>4</th>\n",
              "      <td>56</td>\n",
              "      <td>services</td>\n",
              "      <td>married</td>\n",
              "      <td>high.school</td>\n",
              "      <td>no</td>\n",
              "      <td>no</td>\n",
              "      <td>yes</td>\n",
              "      <td>telephone</td>\n",
              "      <td>may</td>\n",
              "      <td>mon</td>\n",
              "      <td>...</td>\n",
              "      <td>1</td>\n",
              "      <td>999</td>\n",
              "      <td>0</td>\n",
              "      <td>nonexistent</td>\n",
              "      <td>1.1</td>\n",
              "      <td>93.994</td>\n",
              "      <td>-36.4</td>\n",
              "      <td>4.857</td>\n",
              "      <td>5191.0</td>\n",
              "      <td>no</td>\n",
              "    </tr>\n",
              "    <tr>\n",
              "      <th>5</th>\n",
              "      <td>45</td>\n",
              "      <td>services</td>\n",
              "      <td>married</td>\n",
              "      <td>basic.9y</td>\n",
              "      <td>unknown</td>\n",
              "      <td>no</td>\n",
              "      <td>no</td>\n",
              "      <td>telephone</td>\n",
              "      <td>may</td>\n",
              "      <td>mon</td>\n",
              "      <td>...</td>\n",
              "      <td>1</td>\n",
              "      <td>999</td>\n",
              "      <td>0</td>\n",
              "      <td>nonexistent</td>\n",
              "      <td>1.1</td>\n",
              "      <td>93.994</td>\n",
              "      <td>-36.4</td>\n",
              "      <td>4.857</td>\n",
              "      <td>5191.0</td>\n",
              "      <td>no</td>\n",
              "    </tr>\n",
              "    <tr>\n",
              "      <th>6</th>\n",
              "      <td>59</td>\n",
              "      <td>admin.</td>\n",
              "      <td>married</td>\n",
              "      <td>professional.course</td>\n",
              "      <td>no</td>\n",
              "      <td>no</td>\n",
              "      <td>no</td>\n",
              "      <td>telephone</td>\n",
              "      <td>may</td>\n",
              "      <td>mon</td>\n",
              "      <td>...</td>\n",
              "      <td>1</td>\n",
              "      <td>999</td>\n",
              "      <td>0</td>\n",
              "      <td>nonexistent</td>\n",
              "      <td>1.1</td>\n",
              "      <td>93.994</td>\n",
              "      <td>-36.4</td>\n",
              "      <td>4.857</td>\n",
              "      <td>5191.0</td>\n",
              "      <td>no</td>\n",
              "    </tr>\n",
              "    <tr>\n",
              "      <th>7</th>\n",
              "      <td>41</td>\n",
              "      <td>blue-collar</td>\n",
              "      <td>married</td>\n",
              "      <td>unknown</td>\n",
              "      <td>unknown</td>\n",
              "      <td>no</td>\n",
              "      <td>no</td>\n",
              "      <td>telephone</td>\n",
              "      <td>may</td>\n",
              "      <td>mon</td>\n",
              "      <td>...</td>\n",
              "      <td>1</td>\n",
              "      <td>999</td>\n",
              "      <td>0</td>\n",
              "      <td>nonexistent</td>\n",
              "      <td>1.1</td>\n",
              "      <td>93.994</td>\n",
              "      <td>-36.4</td>\n",
              "      <td>4.857</td>\n",
              "      <td>5191.0</td>\n",
              "      <td>no</td>\n",
              "    </tr>\n",
              "    <tr>\n",
              "      <th>8</th>\n",
              "      <td>24</td>\n",
              "      <td>technician</td>\n",
              "      <td>single</td>\n",
              "      <td>professional.course</td>\n",
              "      <td>no</td>\n",
              "      <td>yes</td>\n",
              "      <td>no</td>\n",
              "      <td>telephone</td>\n",
              "      <td>may</td>\n",
              "      <td>mon</td>\n",
              "      <td>...</td>\n",
              "      <td>1</td>\n",
              "      <td>999</td>\n",
              "      <td>0</td>\n",
              "      <td>nonexistent</td>\n",
              "      <td>1.1</td>\n",
              "      <td>93.994</td>\n",
              "      <td>-36.4</td>\n",
              "      <td>4.857</td>\n",
              "      <td>5191.0</td>\n",
              "      <td>no</td>\n",
              "    </tr>\n",
              "    <tr>\n",
              "      <th>9</th>\n",
              "      <td>25</td>\n",
              "      <td>services</td>\n",
              "      <td>single</td>\n",
              "      <td>high.school</td>\n",
              "      <td>no</td>\n",
              "      <td>yes</td>\n",
              "      <td>no</td>\n",
              "      <td>telephone</td>\n",
              "      <td>may</td>\n",
              "      <td>mon</td>\n",
              "      <td>...</td>\n",
              "      <td>1</td>\n",
              "      <td>999</td>\n",
              "      <td>0</td>\n",
              "      <td>nonexistent</td>\n",
              "      <td>1.1</td>\n",
              "      <td>93.994</td>\n",
              "      <td>-36.4</td>\n",
              "      <td>4.857</td>\n",
              "      <td>5191.0</td>\n",
              "      <td>no</td>\n",
              "    </tr>\n",
              "  </tbody>\n",
              "</table>\n",
              "<p>10 rows × 21 columns</p>\n",
              "</div>"
            ],
            "text/plain": [
              "   age          job  marital            education  default housing loan  \\\n",
              "0   56    housemaid  married             basic.4y       no      no   no   \n",
              "1   57     services  married          high.school  unknown      no   no   \n",
              "2   37     services  married          high.school       no     yes   no   \n",
              "3   40       admin.  married             basic.6y       no      no   no   \n",
              "4   56     services  married          high.school       no      no  yes   \n",
              "5   45     services  married             basic.9y  unknown      no   no   \n",
              "6   59       admin.  married  professional.course       no      no   no   \n",
              "7   41  blue-collar  married              unknown  unknown      no   no   \n",
              "8   24   technician   single  professional.course       no     yes   no   \n",
              "9   25     services   single          high.school       no     yes   no   \n",
              "\n",
              "     contact month day_of_week  ...  campaign  pdays  previous     poutcome  \\\n",
              "0  telephone   may         mon  ...         1    999         0  nonexistent   \n",
              "1  telephone   may         mon  ...         1    999         0  nonexistent   \n",
              "2  telephone   may         mon  ...         1    999         0  nonexistent   \n",
              "3  telephone   may         mon  ...         1    999         0  nonexistent   \n",
              "4  telephone   may         mon  ...         1    999         0  nonexistent   \n",
              "5  telephone   may         mon  ...         1    999         0  nonexistent   \n",
              "6  telephone   may         mon  ...         1    999         0  nonexistent   \n",
              "7  telephone   may         mon  ...         1    999         0  nonexistent   \n",
              "8  telephone   may         mon  ...         1    999         0  nonexistent   \n",
              "9  telephone   may         mon  ...         1    999         0  nonexistent   \n",
              "\n",
              "  emp.var.rate  cons.price.idx  cons.conf.idx  euribor3m  nr.employed   y  \n",
              "0          1.1          93.994          -36.4      4.857       5191.0  no  \n",
              "1          1.1          93.994          -36.4      4.857       5191.0  no  \n",
              "2          1.1          93.994          -36.4      4.857       5191.0  no  \n",
              "3          1.1          93.994          -36.4      4.857       5191.0  no  \n",
              "4          1.1          93.994          -36.4      4.857       5191.0  no  \n",
              "5          1.1          93.994          -36.4      4.857       5191.0  no  \n",
              "6          1.1          93.994          -36.4      4.857       5191.0  no  \n",
              "7          1.1          93.994          -36.4      4.857       5191.0  no  \n",
              "8          1.1          93.994          -36.4      4.857       5191.0  no  \n",
              "9          1.1          93.994          -36.4      4.857       5191.0  no  \n",
              "\n",
              "[10 rows x 21 columns]"
            ]
          },
          "execution_count": 51,
          "metadata": {},
          "output_type": "execute_result"
        }
      ],
      "source": [
        "df.head(10)"
      ]
    },
    {
      "cell_type": "code",
      "execution_count": 52,
      "metadata": {
        "colab": {
          "base_uri": "https://localhost:8080/"
        },
        "id": "Db_too02z6zg",
        "outputId": "02863464-22cf-48b3-b69a-a91bac78320a"
      },
      "outputs": [
        {
          "name": "stdout",
          "output_type": "stream",
          "text": [
            "<class 'pandas.core.frame.DataFrame'>\n",
            "RangeIndex: 41188 entries, 0 to 41187\n",
            "Data columns (total 21 columns):\n",
            " #   Column          Non-Null Count  Dtype  \n",
            "---  ------          --------------  -----  \n",
            " 0   age             41188 non-null  int64  \n",
            " 1   job             41188 non-null  object \n",
            " 2   marital         41188 non-null  object \n",
            " 3   education       41188 non-null  object \n",
            " 4   default         41188 non-null  object \n",
            " 5   housing         41188 non-null  object \n",
            " 6   loan            41188 non-null  object \n",
            " 7   contact         41188 non-null  object \n",
            " 8   month           41188 non-null  object \n",
            " 9   day_of_week     41188 non-null  object \n",
            " 10  duration        41188 non-null  int64  \n",
            " 11  campaign        41188 non-null  int64  \n",
            " 12  pdays           41188 non-null  int64  \n",
            " 13  previous        41188 non-null  int64  \n",
            " 14  poutcome        41188 non-null  object \n",
            " 15  emp.var.rate    41188 non-null  float64\n",
            " 16  cons.price.idx  41188 non-null  float64\n",
            " 17  cons.conf.idx   41188 non-null  float64\n",
            " 18  euribor3m       41188 non-null  float64\n",
            " 19  nr.employed     41188 non-null  float64\n",
            " 20  y               41188 non-null  object \n",
            "dtypes: float64(5), int64(5), object(11)\n",
            "memory usage: 6.6+ MB\n"
          ]
        }
      ],
      "source": [
        "df.info()"
      ]
    },
    {
      "cell_type": "markdown",
      "metadata": {
        "id": "GONb6qAsE9Tr"
      },
      "source": [
        "### Типы данных переменных:"
      ]
    },
    {
      "cell_type": "code",
      "execution_count": 53,
      "metadata": {
        "colab": {
          "base_uri": "https://localhost:8080/"
        },
        "id": "kPW60l4tEQPV",
        "outputId": "3c304d2d-d3e7-4eb5-d2bc-128106c0d6a4"
      },
      "outputs": [
        {
          "name": "stdout",
          "output_type": "stream",
          "text": [
            "Type: int64\n",
            "['age' 'duration' 'campaign' 'pdays' 'previous']\n",
            "\n",
            "Type: object\n",
            "['job' 'marital' 'education' 'default' 'housing' 'loan' 'contact' 'month'\n",
            " 'day_of_week' 'poutcome' 'y']\n",
            "\n",
            "Type: float64\n",
            "['emp.var.rate' 'cons.price.idx' 'cons.conf.idx' 'euribor3m' 'nr.employed']\n",
            "\n"
          ]
        }
      ],
      "source": [
        "for t in df.dtypes.unique():\n",
        "     print('Type: {}\\n{}\\n'.format(t, df.dtypes[df.dtypes==t].index.values))"
      ]
    },
    {
      "cell_type": "markdown",
      "metadata": {
        "id": "H4V3wFOoE5Ll"
      },
      "source": [
        "### Процент пропущенных значений по переменным, содержащим пропуски:"
      ]
    },
    {
      "cell_type": "code",
      "execution_count": 54,
      "metadata": {
        "colab": {
          "base_uri": "https://localhost:8080/",
          "height": 0
        },
        "id": "moT-ujdbEnRz",
        "outputId": "6d7b4f83-c90b-4c01-b1ad-c49a46713839"
      },
      "outputs": [
        {
          "data": {
            "text/html": [
              "<div>\n",
              "<style scoped>\n",
              "    .dataframe tbody tr th:only-of-type {\n",
              "        vertical-align: middle;\n",
              "    }\n",
              "\n",
              "    .dataframe tbody tr th {\n",
              "        vertical-align: top;\n",
              "    }\n",
              "\n",
              "    .dataframe thead th {\n",
              "        text-align: right;\n",
              "    }\n",
              "</style>\n",
              "<table border=\"1\" class=\"dataframe\">\n",
              "  <thead>\n",
              "    <tr style=\"text-align: right;\">\n",
              "      <th></th>\n",
              "      <th>Процент пропущенных значений</th>\n",
              "    </tr>\n",
              "  </thead>\n",
              "  <tbody>\n",
              "  </tbody>\n",
              "</table>\n",
              "</div>"
            ],
            "text/plain": [
              "Empty DataFrame\n",
              "Columns: [Процент пропущенных значений]\n",
              "Index: []"
            ]
          },
          "execution_count": 54,
          "metadata": {},
          "output_type": "execute_result"
        }
      ],
      "source": [
        "\n",
        "missing = (df.isna().sum() / len(df)) * 100\n",
        "missing = missing[missing > 0].sort_values(ascending=False)\n",
        "missing = pd.DataFrame({'Процент пропущенных значений' : missing})\n",
        "missing"
      ]
    },
    {
      "cell_type": "markdown",
      "metadata": {
        "id": "zYkpdp0jE08G"
      },
      "source": [
        "### Зависимая переменная:"
      ]
    },
    {
      "cell_type": "code",
      "execution_count": 55,
      "metadata": {
        "colab": {
          "base_uri": "https://localhost:8080/"
        },
        "id": "vhlPVeAREyFY",
        "outputId": "9b881bb4-e649-4fba-a780-cfd5d3685c0b"
      },
      "outputs": [
        {
          "data": {
            "text/plain": [
              "y\n",
              "0    36548\n",
              "1     4640\n",
              "Name: count, dtype: int64"
            ]
          },
          "execution_count": 55,
          "metadata": {},
          "output_type": "execute_result"
        }
      ],
      "source": [
        "df['y'] = df['y'].replace({'no': 0, 'yes': 1})\n",
        "df['y'].value_counts()"
      ]
    },
    {
      "cell_type": "markdown",
      "metadata": {
        "id": "lAf-b361FMyM"
      },
      "source": [
        "### **Предикторы**"
      ]
    },
    {
      "cell_type": "markdown",
      "metadata": {
        "id": "IUY3FCUIGxpN"
      },
      "source": [
        "#### Возраст (референтная группа - 31 год)"
      ]
    },
    {
      "cell_type": "code",
      "execution_count": 56,
      "metadata": {
        "colab": {
          "base_uri": "https://localhost:8080/"
        },
        "id": "SNnkwxBmFX-6",
        "outputId": "38814a16-bdbf-4ca9-c79d-e50abff8db32"
      },
      "outputs": [
        {
          "data": {
            "text/plain": [
              "age\n",
              "31    1947\n",
              "32    1846\n",
              "33    1833\n",
              "36    1780\n",
              "35    1759\n",
              "      ... \n",
              "89       2\n",
              "91       2\n",
              "94       1\n",
              "87       1\n",
              "95       1\n",
              "Name: count, Length: 78, dtype: int64"
            ]
          },
          "execution_count": 56,
          "metadata": {},
          "output_type": "execute_result"
        }
      ],
      "source": [
        "df['age'].value_counts()"
      ]
    },
    {
      "cell_type": "markdown",
      "metadata": {
        "id": "ld6ocS_3G2h0"
      },
      "source": [
        "#### Количество контактов, выполненных до этой кампании и для этого клиента (референтная группа - 0)"
      ]
    },
    {
      "cell_type": "code",
      "execution_count": 57,
      "metadata": {
        "colab": {
          "base_uri": "https://localhost:8080/"
        },
        "id": "XmUBsq7RG3Ly",
        "outputId": "60eb2ef6-6db8-4d54-9b58-87b63b8cdf3b"
      },
      "outputs": [
        {
          "data": {
            "text/plain": [
              "previous\n",
              "0    35563\n",
              "1     4561\n",
              "2      754\n",
              "3      216\n",
              "4       70\n",
              "5       18\n",
              "6        5\n",
              "7        1\n",
              "Name: count, dtype: int64"
            ]
          },
          "execution_count": 57,
          "metadata": {},
          "output_type": "execute_result"
        }
      ],
      "source": [
        "df['previous'].value_counts()"
      ]
    },
    {
      "cell_type": "markdown",
      "metadata": {
        "id": "q8pGmdyjHbnz"
      },
      "source": [
        "#### Количество сотрудников - квартальный показатель (референтная группа - 5228.1)"
      ]
    },
    {
      "cell_type": "code",
      "execution_count": 58,
      "metadata": {
        "colab": {
          "base_uri": "https://localhost:8080/"
        },
        "id": "6yYHTdzTHcOZ",
        "outputId": "dd0e132f-7623-4e18-8529-66f65acfcbf6"
      },
      "outputs": [
        {
          "data": {
            "text/plain": [
              "nr.employed\n",
              "5228.1    16234\n",
              "5099.1     8534\n",
              "5191.0     7763\n",
              "5195.8     3683\n",
              "5076.2     1663\n",
              "5017.5     1071\n",
              "4991.6      773\n",
              "5008.7      650\n",
              "4963.6      635\n",
              "5023.5      172\n",
              "5176.3       10\n",
              "Name: count, dtype: int64"
            ]
          },
          "execution_count": 58,
          "metadata": {},
          "output_type": "execute_result"
        }
      ],
      "source": [
        "df['nr.employed'].value_counts()"
      ]
    },
    {
      "cell_type": "markdown",
      "metadata": {
        "id": "J3aRVBM5IURv"
      },
      "source": [
        "#### Тип работы (референтная группа - admin.)"
      ]
    },
    {
      "cell_type": "code",
      "execution_count": 59,
      "metadata": {
        "colab": {
          "base_uri": "https://localhost:8080/"
        },
        "id": "c-Ap6itXIU7P",
        "outputId": "df315298-571e-47bd-ef0b-5be63076a756"
      },
      "outputs": [
        {
          "data": {
            "text/plain": [
              "job\n",
              "admin.           10422\n",
              "blue-collar       9254\n",
              "technician        6743\n",
              "services          3969\n",
              "management        2924\n",
              "retired           1720\n",
              "entrepreneur      1456\n",
              "self-employed     1421\n",
              "housemaid         1060\n",
              "unemployed        1014\n",
              "student            875\n",
              "unknown            330\n",
              "Name: count, dtype: int64"
            ]
          },
          "execution_count": 59,
          "metadata": {},
          "output_type": "execute_result"
        }
      ],
      "source": [
        "df['job'].value_counts()"
      ]
    },
    {
      "cell_type": "code",
      "execution_count": 60,
      "metadata": {
        "colab": {
          "base_uri": "https://localhost:8080/",
          "height": 0
        },
        "id": "4ZBqZuLhLAVA",
        "outputId": "71f1d0ce-547d-4968-c715-43bdb2e38c67"
      },
      "outputs": [
        {
          "data": {
            "text/html": [
              "<div>\n",
              "<style scoped>\n",
              "    .dataframe tbody tr th:only-of-type {\n",
              "        vertical-align: middle;\n",
              "    }\n",
              "\n",
              "    .dataframe tbody tr th {\n",
              "        vertical-align: top;\n",
              "    }\n",
              "\n",
              "    .dataframe thead th {\n",
              "        text-align: right;\n",
              "    }\n",
              "</style>\n",
              "<table border=\"1\" class=\"dataframe\">\n",
              "  <thead>\n",
              "    <tr style=\"text-align: right;\">\n",
              "      <th></th>\n",
              "      <th>job_admin.</th>\n",
              "      <th>job_blue-collar</th>\n",
              "      <th>job_entrepreneur</th>\n",
              "      <th>job_housemaid</th>\n",
              "      <th>job_management</th>\n",
              "      <th>job_retired</th>\n",
              "      <th>job_self-employed</th>\n",
              "      <th>job_services</th>\n",
              "      <th>job_student</th>\n",
              "      <th>job_technician</th>\n",
              "      <th>job_unemployed</th>\n",
              "      <th>job_unknown</th>\n",
              "    </tr>\n",
              "  </thead>\n",
              "  <tbody>\n",
              "    <tr>\n",
              "      <th>0</th>\n",
              "      <td>0</td>\n",
              "      <td>0</td>\n",
              "      <td>0</td>\n",
              "      <td>1</td>\n",
              "      <td>0</td>\n",
              "      <td>0</td>\n",
              "      <td>0</td>\n",
              "      <td>0</td>\n",
              "      <td>0</td>\n",
              "      <td>0</td>\n",
              "      <td>0</td>\n",
              "      <td>0</td>\n",
              "    </tr>\n",
              "    <tr>\n",
              "      <th>1</th>\n",
              "      <td>0</td>\n",
              "      <td>0</td>\n",
              "      <td>0</td>\n",
              "      <td>0</td>\n",
              "      <td>0</td>\n",
              "      <td>0</td>\n",
              "      <td>0</td>\n",
              "      <td>1</td>\n",
              "      <td>0</td>\n",
              "      <td>0</td>\n",
              "      <td>0</td>\n",
              "      <td>0</td>\n",
              "    </tr>\n",
              "    <tr>\n",
              "      <th>2</th>\n",
              "      <td>0</td>\n",
              "      <td>0</td>\n",
              "      <td>0</td>\n",
              "      <td>0</td>\n",
              "      <td>0</td>\n",
              "      <td>0</td>\n",
              "      <td>0</td>\n",
              "      <td>1</td>\n",
              "      <td>0</td>\n",
              "      <td>0</td>\n",
              "      <td>0</td>\n",
              "      <td>0</td>\n",
              "    </tr>\n",
              "    <tr>\n",
              "      <th>3</th>\n",
              "      <td>1</td>\n",
              "      <td>0</td>\n",
              "      <td>0</td>\n",
              "      <td>0</td>\n",
              "      <td>0</td>\n",
              "      <td>0</td>\n",
              "      <td>0</td>\n",
              "      <td>0</td>\n",
              "      <td>0</td>\n",
              "      <td>0</td>\n",
              "      <td>0</td>\n",
              "      <td>0</td>\n",
              "    </tr>\n",
              "    <tr>\n",
              "      <th>4</th>\n",
              "      <td>0</td>\n",
              "      <td>0</td>\n",
              "      <td>0</td>\n",
              "      <td>0</td>\n",
              "      <td>0</td>\n",
              "      <td>0</td>\n",
              "      <td>0</td>\n",
              "      <td>1</td>\n",
              "      <td>0</td>\n",
              "      <td>0</td>\n",
              "      <td>0</td>\n",
              "      <td>0</td>\n",
              "    </tr>\n",
              "  </tbody>\n",
              "</table>\n",
              "</div>"
            ],
            "text/plain": [
              "   job_admin.  job_blue-collar  job_entrepreneur  job_housemaid  \\\n",
              "0           0                0                 0              1   \n",
              "1           0                0                 0              0   \n",
              "2           0                0                 0              0   \n",
              "3           1                0                 0              0   \n",
              "4           0                0                 0              0   \n",
              "\n",
              "   job_management  job_retired  job_self-employed  job_services  job_student  \\\n",
              "0               0            0                  0             0            0   \n",
              "1               0            0                  0             1            0   \n",
              "2               0            0                  0             1            0   \n",
              "3               0            0                  0             0            0   \n",
              "4               0            0                  0             1            0   \n",
              "\n",
              "   job_technician  job_unemployed  job_unknown  \n",
              "0               0               0            0  \n",
              "1               0               0            0  \n",
              "2               0               0            0  \n",
              "3               0               0            0  \n",
              "4               0               0            0  "
            ]
          },
          "execution_count": 60,
          "metadata": {},
          "output_type": "execute_result"
        }
      ],
      "source": [
        "job_dummies=pd.get_dummies(df.job, prefix='job', prefix_sep='_', dtype='int')\n",
        "job_dummies.head()"
      ]
    },
    {
      "cell_type": "markdown",
      "metadata": {
        "id": "N5mtS5crIy4R"
      },
      "source": [
        "#### Семейное положение (реферетная группа - женат/замужем)"
      ]
    },
    {
      "cell_type": "code",
      "execution_count": 61,
      "metadata": {
        "colab": {
          "base_uri": "https://localhost:8080/"
        },
        "id": "ifRVGG5YIzZr",
        "outputId": "cbaf33bd-531b-4a53-b16a-26743caefa7c"
      },
      "outputs": [
        {
          "data": {
            "text/plain": [
              "marital\n",
              "married     24928\n",
              "single      11568\n",
              "divorced     4612\n",
              "unknown        80\n",
              "Name: count, dtype: int64"
            ]
          },
          "execution_count": 61,
          "metadata": {},
          "output_type": "execute_result"
        }
      ],
      "source": [
        "df['marital'].value_counts()"
      ]
    },
    {
      "cell_type": "code",
      "execution_count": 62,
      "metadata": {
        "colab": {
          "base_uri": "https://localhost:8080/",
          "height": 0
        },
        "id": "LeojBHeNLMxa",
        "outputId": "5453ed73-a3f0-443e-f8a0-714277a2e557"
      },
      "outputs": [
        {
          "data": {
            "text/html": [
              "<div>\n",
              "<style scoped>\n",
              "    .dataframe tbody tr th:only-of-type {\n",
              "        vertical-align: middle;\n",
              "    }\n",
              "\n",
              "    .dataframe tbody tr th {\n",
              "        vertical-align: top;\n",
              "    }\n",
              "\n",
              "    .dataframe thead th {\n",
              "        text-align: right;\n",
              "    }\n",
              "</style>\n",
              "<table border=\"1\" class=\"dataframe\">\n",
              "  <thead>\n",
              "    <tr style=\"text-align: right;\">\n",
              "      <th></th>\n",
              "      <th>marital_divorced</th>\n",
              "      <th>marital_married</th>\n",
              "      <th>marital_single</th>\n",
              "      <th>marital_unknown</th>\n",
              "    </tr>\n",
              "  </thead>\n",
              "  <tbody>\n",
              "    <tr>\n",
              "      <th>0</th>\n",
              "      <td>0</td>\n",
              "      <td>1</td>\n",
              "      <td>0</td>\n",
              "      <td>0</td>\n",
              "    </tr>\n",
              "    <tr>\n",
              "      <th>1</th>\n",
              "      <td>0</td>\n",
              "      <td>1</td>\n",
              "      <td>0</td>\n",
              "      <td>0</td>\n",
              "    </tr>\n",
              "    <tr>\n",
              "      <th>2</th>\n",
              "      <td>0</td>\n",
              "      <td>1</td>\n",
              "      <td>0</td>\n",
              "      <td>0</td>\n",
              "    </tr>\n",
              "    <tr>\n",
              "      <th>3</th>\n",
              "      <td>0</td>\n",
              "      <td>1</td>\n",
              "      <td>0</td>\n",
              "      <td>0</td>\n",
              "    </tr>\n",
              "    <tr>\n",
              "      <th>4</th>\n",
              "      <td>0</td>\n",
              "      <td>1</td>\n",
              "      <td>0</td>\n",
              "      <td>0</td>\n",
              "    </tr>\n",
              "  </tbody>\n",
              "</table>\n",
              "</div>"
            ],
            "text/plain": [
              "   marital_divorced  marital_married  marital_single  marital_unknown\n",
              "0                 0                1               0                0\n",
              "1                 0                1               0                0\n",
              "2                 0                1               0                0\n",
              "3                 0                1               0                0\n",
              "4                 0                1               0                0"
            ]
          },
          "execution_count": 62,
          "metadata": {},
          "output_type": "execute_result"
        }
      ],
      "source": [
        "marital_dummies=pd.get_dummies(df.marital, prefix='marital', prefix_sep='_', dtype='int')\n",
        "marital_dummies.head()"
      ]
    },
    {
      "cell_type": "markdown",
      "metadata": {
        "id": "IqDma4AnJ6df"
      },
      "source": [
        "#### Образование (референтная группа - имеющие высшее образование (university.degree))"
      ]
    },
    {
      "cell_type": "code",
      "execution_count": 63,
      "metadata": {
        "colab": {
          "base_uri": "https://localhost:8080/"
        },
        "id": "w9ItKTmkKDz9",
        "outputId": "64a3b83f-0a33-421f-fba9-800bc170010a"
      },
      "outputs": [
        {
          "data": {
            "text/plain": [
              "education\n",
              "university.degree      12168\n",
              "high.school             9515\n",
              "basic.9y                6045\n",
              "professional.course     5243\n",
              "basic.4y                4176\n",
              "basic.6y                2292\n",
              "unknown                 1731\n",
              "illiterate                18\n",
              "Name: count, dtype: int64"
            ]
          },
          "execution_count": 63,
          "metadata": {},
          "output_type": "execute_result"
        }
      ],
      "source": [
        "df['education'].value_counts()"
      ]
    },
    {
      "cell_type": "code",
      "execution_count": 64,
      "metadata": {
        "colab": {
          "base_uri": "https://localhost:8080/",
          "height": 0
        },
        "id": "2hBoZHkdLYFK",
        "outputId": "abe1694d-6c7a-4f7f-8766-28e99015be90"
      },
      "outputs": [
        {
          "data": {
            "text/html": [
              "<div>\n",
              "<style scoped>\n",
              "    .dataframe tbody tr th:only-of-type {\n",
              "        vertical-align: middle;\n",
              "    }\n",
              "\n",
              "    .dataframe tbody tr th {\n",
              "        vertical-align: top;\n",
              "    }\n",
              "\n",
              "    .dataframe thead th {\n",
              "        text-align: right;\n",
              "    }\n",
              "</style>\n",
              "<table border=\"1\" class=\"dataframe\">\n",
              "  <thead>\n",
              "    <tr style=\"text-align: right;\">\n",
              "      <th></th>\n",
              "      <th>education_basic.4y</th>\n",
              "      <th>education_basic.6y</th>\n",
              "      <th>education_basic.9y</th>\n",
              "      <th>education_high.school</th>\n",
              "      <th>education_illiterate</th>\n",
              "      <th>education_professional.course</th>\n",
              "      <th>education_university.degree</th>\n",
              "      <th>education_unknown</th>\n",
              "    </tr>\n",
              "  </thead>\n",
              "  <tbody>\n",
              "    <tr>\n",
              "      <th>0</th>\n",
              "      <td>1</td>\n",
              "      <td>0</td>\n",
              "      <td>0</td>\n",
              "      <td>0</td>\n",
              "      <td>0</td>\n",
              "      <td>0</td>\n",
              "      <td>0</td>\n",
              "      <td>0</td>\n",
              "    </tr>\n",
              "    <tr>\n",
              "      <th>1</th>\n",
              "      <td>0</td>\n",
              "      <td>0</td>\n",
              "      <td>0</td>\n",
              "      <td>1</td>\n",
              "      <td>0</td>\n",
              "      <td>0</td>\n",
              "      <td>0</td>\n",
              "      <td>0</td>\n",
              "    </tr>\n",
              "    <tr>\n",
              "      <th>2</th>\n",
              "      <td>0</td>\n",
              "      <td>0</td>\n",
              "      <td>0</td>\n",
              "      <td>1</td>\n",
              "      <td>0</td>\n",
              "      <td>0</td>\n",
              "      <td>0</td>\n",
              "      <td>0</td>\n",
              "    </tr>\n",
              "    <tr>\n",
              "      <th>3</th>\n",
              "      <td>0</td>\n",
              "      <td>1</td>\n",
              "      <td>0</td>\n",
              "      <td>0</td>\n",
              "      <td>0</td>\n",
              "      <td>0</td>\n",
              "      <td>0</td>\n",
              "      <td>0</td>\n",
              "    </tr>\n",
              "    <tr>\n",
              "      <th>4</th>\n",
              "      <td>0</td>\n",
              "      <td>0</td>\n",
              "      <td>0</td>\n",
              "      <td>1</td>\n",
              "      <td>0</td>\n",
              "      <td>0</td>\n",
              "      <td>0</td>\n",
              "      <td>0</td>\n",
              "    </tr>\n",
              "  </tbody>\n",
              "</table>\n",
              "</div>"
            ],
            "text/plain": [
              "   education_basic.4y  education_basic.6y  education_basic.9y  \\\n",
              "0                   1                   0                   0   \n",
              "1                   0                   0                   0   \n",
              "2                   0                   0                   0   \n",
              "3                   0                   1                   0   \n",
              "4                   0                   0                   0   \n",
              "\n",
              "   education_high.school  education_illiterate  education_professional.course  \\\n",
              "0                      0                     0                              0   \n",
              "1                      1                     0                              0   \n",
              "2                      1                     0                              0   \n",
              "3                      0                     0                              0   \n",
              "4                      1                     0                              0   \n",
              "\n",
              "   education_university.degree  education_unknown  \n",
              "0                            0                  0  \n",
              "1                            0                  0  \n",
              "2                            0                  0  \n",
              "3                            0                  0  \n",
              "4                            0                  0  "
            ]
          },
          "execution_count": 64,
          "metadata": {},
          "output_type": "execute_result"
        }
      ],
      "source": [
        "education_dummies=pd.get_dummies(df.education, prefix='education', prefix_sep='_', dtype='int')\n",
        "education_dummies.head()"
      ]
    },
    {
      "cell_type": "markdown",
      "metadata": {
        "id": "bYSqFxqPLgOe"
      },
      "source": [
        "#### Добавляем дамми-переменные в файл:"
      ]
    },
    {
      "cell_type": "code",
      "execution_count": 65,
      "metadata": {
        "colab": {
          "base_uri": "https://localhost:8080/",
          "height": 0
        },
        "id": "2s1NIw3xLpAi",
        "outputId": "7aded8bb-657e-46fb-f90a-9e2af5611e72"
      },
      "outputs": [
        {
          "data": {
            "text/html": [
              "<div>\n",
              "<style scoped>\n",
              "    .dataframe tbody tr th:only-of-type {\n",
              "        vertical-align: middle;\n",
              "    }\n",
              "\n",
              "    .dataframe tbody tr th {\n",
              "        vertical-align: top;\n",
              "    }\n",
              "\n",
              "    .dataframe thead th {\n",
              "        text-align: right;\n",
              "    }\n",
              "</style>\n",
              "<table border=\"1\" class=\"dataframe\">\n",
              "  <thead>\n",
              "    <tr style=\"text-align: right;\">\n",
              "      <th></th>\n",
              "      <th>age</th>\n",
              "      <th>job</th>\n",
              "      <th>marital</th>\n",
              "      <th>education</th>\n",
              "      <th>default</th>\n",
              "      <th>housing</th>\n",
              "      <th>loan</th>\n",
              "      <th>contact</th>\n",
              "      <th>month</th>\n",
              "      <th>day_of_week</th>\n",
              "      <th>...</th>\n",
              "      <th>marital_single</th>\n",
              "      <th>marital_unknown</th>\n",
              "      <th>education_basic.4y</th>\n",
              "      <th>education_basic.6y</th>\n",
              "      <th>education_basic.9y</th>\n",
              "      <th>education_high.school</th>\n",
              "      <th>education_illiterate</th>\n",
              "      <th>education_professional.course</th>\n",
              "      <th>education_university.degree</th>\n",
              "      <th>education_unknown</th>\n",
              "    </tr>\n",
              "  </thead>\n",
              "  <tbody>\n",
              "    <tr>\n",
              "      <th>0</th>\n",
              "      <td>56</td>\n",
              "      <td>housemaid</td>\n",
              "      <td>married</td>\n",
              "      <td>basic.4y</td>\n",
              "      <td>no</td>\n",
              "      <td>no</td>\n",
              "      <td>no</td>\n",
              "      <td>telephone</td>\n",
              "      <td>may</td>\n",
              "      <td>mon</td>\n",
              "      <td>...</td>\n",
              "      <td>0</td>\n",
              "      <td>0</td>\n",
              "      <td>1</td>\n",
              "      <td>0</td>\n",
              "      <td>0</td>\n",
              "      <td>0</td>\n",
              "      <td>0</td>\n",
              "      <td>0</td>\n",
              "      <td>0</td>\n",
              "      <td>0</td>\n",
              "    </tr>\n",
              "    <tr>\n",
              "      <th>1</th>\n",
              "      <td>57</td>\n",
              "      <td>services</td>\n",
              "      <td>married</td>\n",
              "      <td>high.school</td>\n",
              "      <td>unknown</td>\n",
              "      <td>no</td>\n",
              "      <td>no</td>\n",
              "      <td>telephone</td>\n",
              "      <td>may</td>\n",
              "      <td>mon</td>\n",
              "      <td>...</td>\n",
              "      <td>0</td>\n",
              "      <td>0</td>\n",
              "      <td>0</td>\n",
              "      <td>0</td>\n",
              "      <td>0</td>\n",
              "      <td>1</td>\n",
              "      <td>0</td>\n",
              "      <td>0</td>\n",
              "      <td>0</td>\n",
              "      <td>0</td>\n",
              "    </tr>\n",
              "    <tr>\n",
              "      <th>2</th>\n",
              "      <td>37</td>\n",
              "      <td>services</td>\n",
              "      <td>married</td>\n",
              "      <td>high.school</td>\n",
              "      <td>no</td>\n",
              "      <td>yes</td>\n",
              "      <td>no</td>\n",
              "      <td>telephone</td>\n",
              "      <td>may</td>\n",
              "      <td>mon</td>\n",
              "      <td>...</td>\n",
              "      <td>0</td>\n",
              "      <td>0</td>\n",
              "      <td>0</td>\n",
              "      <td>0</td>\n",
              "      <td>0</td>\n",
              "      <td>1</td>\n",
              "      <td>0</td>\n",
              "      <td>0</td>\n",
              "      <td>0</td>\n",
              "      <td>0</td>\n",
              "    </tr>\n",
              "    <tr>\n",
              "      <th>3</th>\n",
              "      <td>40</td>\n",
              "      <td>admin.</td>\n",
              "      <td>married</td>\n",
              "      <td>basic.6y</td>\n",
              "      <td>no</td>\n",
              "      <td>no</td>\n",
              "      <td>no</td>\n",
              "      <td>telephone</td>\n",
              "      <td>may</td>\n",
              "      <td>mon</td>\n",
              "      <td>...</td>\n",
              "      <td>0</td>\n",
              "      <td>0</td>\n",
              "      <td>0</td>\n",
              "      <td>1</td>\n",
              "      <td>0</td>\n",
              "      <td>0</td>\n",
              "      <td>0</td>\n",
              "      <td>0</td>\n",
              "      <td>0</td>\n",
              "      <td>0</td>\n",
              "    </tr>\n",
              "    <tr>\n",
              "      <th>4</th>\n",
              "      <td>56</td>\n",
              "      <td>services</td>\n",
              "      <td>married</td>\n",
              "      <td>high.school</td>\n",
              "      <td>no</td>\n",
              "      <td>no</td>\n",
              "      <td>yes</td>\n",
              "      <td>telephone</td>\n",
              "      <td>may</td>\n",
              "      <td>mon</td>\n",
              "      <td>...</td>\n",
              "      <td>0</td>\n",
              "      <td>0</td>\n",
              "      <td>0</td>\n",
              "      <td>0</td>\n",
              "      <td>0</td>\n",
              "      <td>1</td>\n",
              "      <td>0</td>\n",
              "      <td>0</td>\n",
              "      <td>0</td>\n",
              "      <td>0</td>\n",
              "    </tr>\n",
              "    <tr>\n",
              "      <th>...</th>\n",
              "      <td>...</td>\n",
              "      <td>...</td>\n",
              "      <td>...</td>\n",
              "      <td>...</td>\n",
              "      <td>...</td>\n",
              "      <td>...</td>\n",
              "      <td>...</td>\n",
              "      <td>...</td>\n",
              "      <td>...</td>\n",
              "      <td>...</td>\n",
              "      <td>...</td>\n",
              "      <td>...</td>\n",
              "      <td>...</td>\n",
              "      <td>...</td>\n",
              "      <td>...</td>\n",
              "      <td>...</td>\n",
              "      <td>...</td>\n",
              "      <td>...</td>\n",
              "      <td>...</td>\n",
              "      <td>...</td>\n",
              "      <td>...</td>\n",
              "    </tr>\n",
              "    <tr>\n",
              "      <th>41183</th>\n",
              "      <td>73</td>\n",
              "      <td>retired</td>\n",
              "      <td>married</td>\n",
              "      <td>professional.course</td>\n",
              "      <td>no</td>\n",
              "      <td>yes</td>\n",
              "      <td>no</td>\n",
              "      <td>cellular</td>\n",
              "      <td>nov</td>\n",
              "      <td>fri</td>\n",
              "      <td>...</td>\n",
              "      <td>0</td>\n",
              "      <td>0</td>\n",
              "      <td>0</td>\n",
              "      <td>0</td>\n",
              "      <td>0</td>\n",
              "      <td>0</td>\n",
              "      <td>0</td>\n",
              "      <td>1</td>\n",
              "      <td>0</td>\n",
              "      <td>0</td>\n",
              "    </tr>\n",
              "    <tr>\n",
              "      <th>41184</th>\n",
              "      <td>46</td>\n",
              "      <td>blue-collar</td>\n",
              "      <td>married</td>\n",
              "      <td>professional.course</td>\n",
              "      <td>no</td>\n",
              "      <td>no</td>\n",
              "      <td>no</td>\n",
              "      <td>cellular</td>\n",
              "      <td>nov</td>\n",
              "      <td>fri</td>\n",
              "      <td>...</td>\n",
              "      <td>0</td>\n",
              "      <td>0</td>\n",
              "      <td>0</td>\n",
              "      <td>0</td>\n",
              "      <td>0</td>\n",
              "      <td>0</td>\n",
              "      <td>0</td>\n",
              "      <td>1</td>\n",
              "      <td>0</td>\n",
              "      <td>0</td>\n",
              "    </tr>\n",
              "    <tr>\n",
              "      <th>41185</th>\n",
              "      <td>56</td>\n",
              "      <td>retired</td>\n",
              "      <td>married</td>\n",
              "      <td>university.degree</td>\n",
              "      <td>no</td>\n",
              "      <td>yes</td>\n",
              "      <td>no</td>\n",
              "      <td>cellular</td>\n",
              "      <td>nov</td>\n",
              "      <td>fri</td>\n",
              "      <td>...</td>\n",
              "      <td>0</td>\n",
              "      <td>0</td>\n",
              "      <td>0</td>\n",
              "      <td>0</td>\n",
              "      <td>0</td>\n",
              "      <td>0</td>\n",
              "      <td>0</td>\n",
              "      <td>0</td>\n",
              "      <td>1</td>\n",
              "      <td>0</td>\n",
              "    </tr>\n",
              "    <tr>\n",
              "      <th>41186</th>\n",
              "      <td>44</td>\n",
              "      <td>technician</td>\n",
              "      <td>married</td>\n",
              "      <td>professional.course</td>\n",
              "      <td>no</td>\n",
              "      <td>no</td>\n",
              "      <td>no</td>\n",
              "      <td>cellular</td>\n",
              "      <td>nov</td>\n",
              "      <td>fri</td>\n",
              "      <td>...</td>\n",
              "      <td>0</td>\n",
              "      <td>0</td>\n",
              "      <td>0</td>\n",
              "      <td>0</td>\n",
              "      <td>0</td>\n",
              "      <td>0</td>\n",
              "      <td>0</td>\n",
              "      <td>1</td>\n",
              "      <td>0</td>\n",
              "      <td>0</td>\n",
              "    </tr>\n",
              "    <tr>\n",
              "      <th>41187</th>\n",
              "      <td>74</td>\n",
              "      <td>retired</td>\n",
              "      <td>married</td>\n",
              "      <td>professional.course</td>\n",
              "      <td>no</td>\n",
              "      <td>yes</td>\n",
              "      <td>no</td>\n",
              "      <td>cellular</td>\n",
              "      <td>nov</td>\n",
              "      <td>fri</td>\n",
              "      <td>...</td>\n",
              "      <td>0</td>\n",
              "      <td>0</td>\n",
              "      <td>0</td>\n",
              "      <td>0</td>\n",
              "      <td>0</td>\n",
              "      <td>0</td>\n",
              "      <td>0</td>\n",
              "      <td>1</td>\n",
              "      <td>0</td>\n",
              "      <td>0</td>\n",
              "    </tr>\n",
              "  </tbody>\n",
              "</table>\n",
              "<p>41188 rows × 45 columns</p>\n",
              "</div>"
            ],
            "text/plain": [
              "       age          job  marital            education  default housing loan  \\\n",
              "0       56    housemaid  married             basic.4y       no      no   no   \n",
              "1       57     services  married          high.school  unknown      no   no   \n",
              "2       37     services  married          high.school       no     yes   no   \n",
              "3       40       admin.  married             basic.6y       no      no   no   \n",
              "4       56     services  married          high.school       no      no  yes   \n",
              "...    ...          ...      ...                  ...      ...     ...  ...   \n",
              "41183   73      retired  married  professional.course       no     yes   no   \n",
              "41184   46  blue-collar  married  professional.course       no      no   no   \n",
              "41185   56      retired  married    university.degree       no     yes   no   \n",
              "41186   44   technician  married  professional.course       no      no   no   \n",
              "41187   74      retired  married  professional.course       no     yes   no   \n",
              "\n",
              "         contact month day_of_week  ...  marital_single  marital_unknown  \\\n",
              "0      telephone   may         mon  ...               0                0   \n",
              "1      telephone   may         mon  ...               0                0   \n",
              "2      telephone   may         mon  ...               0                0   \n",
              "3      telephone   may         mon  ...               0                0   \n",
              "4      telephone   may         mon  ...               0                0   \n",
              "...          ...   ...         ...  ...             ...              ...   \n",
              "41183   cellular   nov         fri  ...               0                0   \n",
              "41184   cellular   nov         fri  ...               0                0   \n",
              "41185   cellular   nov         fri  ...               0                0   \n",
              "41186   cellular   nov         fri  ...               0                0   \n",
              "41187   cellular   nov         fri  ...               0                0   \n",
              "\n",
              "       education_basic.4y  education_basic.6y education_basic.9y  \\\n",
              "0                       1                   0                  0   \n",
              "1                       0                   0                  0   \n",
              "2                       0                   0                  0   \n",
              "3                       0                   1                  0   \n",
              "4                       0                   0                  0   \n",
              "...                   ...                 ...                ...   \n",
              "41183                   0                   0                  0   \n",
              "41184                   0                   0                  0   \n",
              "41185                   0                   0                  0   \n",
              "41186                   0                   0                  0   \n",
              "41187                   0                   0                  0   \n",
              "\n",
              "       education_high.school  education_illiterate  \\\n",
              "0                          0                     0   \n",
              "1                          1                     0   \n",
              "2                          1                     0   \n",
              "3                          0                     0   \n",
              "4                          1                     0   \n",
              "...                      ...                   ...   \n",
              "41183                      0                     0   \n",
              "41184                      0                     0   \n",
              "41185                      0                     0   \n",
              "41186                      0                     0   \n",
              "41187                      0                     0   \n",
              "\n",
              "       education_professional.course  education_university.degree  \\\n",
              "0                                  0                            0   \n",
              "1                                  0                            0   \n",
              "2                                  0                            0   \n",
              "3                                  0                            0   \n",
              "4                                  0                            0   \n",
              "...                              ...                          ...   \n",
              "41183                              1                            0   \n",
              "41184                              1                            0   \n",
              "41185                              0                            1   \n",
              "41186                              1                            0   \n",
              "41187                              1                            0   \n",
              "\n",
              "       education_unknown  \n",
              "0                      0  \n",
              "1                      0  \n",
              "2                      0  \n",
              "3                      0  \n",
              "4                      0  \n",
              "...                  ...  \n",
              "41183                  0  \n",
              "41184                  0  \n",
              "41185                  0  \n",
              "41186                  0  \n",
              "41187                  0  \n",
              "\n",
              "[41188 rows x 45 columns]"
            ]
          },
          "execution_count": 65,
          "metadata": {},
          "output_type": "execute_result"
        }
      ],
      "source": [
        "df = pd.concat([df, job_dummies, marital_dummies, education_dummies], axis=1)\n",
        "df"
      ]
    },
    {
      "cell_type": "markdown",
      "metadata": {
        "id": "UFBg2imxAOf_"
      },
      "source": [
        "### Модель"
      ]
    },
    {
      "cell_type": "code",
      "execution_count": 66,
      "metadata": {
        "colab": {
          "base_uri": "https://localhost:8080/"
        },
        "id": "Q9_g7jjUAWqq",
        "outputId": "726312b3-7f9a-4b1a-85d3-79d8de576253"
      },
      "outputs": [
        {
          "data": {
            "text/plain": [
              "(41188, 45)"
            ]
          },
          "execution_count": 66,
          "metadata": {},
          "output_type": "execute_result"
        }
      ],
      "source": [
        "df_model1 = df.dropna(subset=['age', 'previous', 'nr.employed', 'job_blue-collar',\n",
        "                              'job_entrepreneur', 'job_housemaid', 'job_management',\n",
        "                              'job_retired', 'job_self-employed', 'job_services',\n",
        "                              'job_student', 'job_technician', 'job_unemployed',\n",
        "                              'marital_divorced', 'marital_single',\n",
        "                              'marital_unknown', 'education_basic.4y', 'education_basic.6y',\n",
        "                              'education_basic.9y', 'education_high.school',\n",
        "                              'education_illiterate', 'education_professional.course',\n",
        "                              'education_unknown', 'y'])\n",
        "df_model1.shape\n"
      ]
    },
    {
      "cell_type": "code",
      "execution_count": 67,
      "metadata": {
        "id": "Q-XQ7jpCCxVB"
      },
      "outputs": [],
      "source": [
        "x_mult = df_model1[['age', 'previous', 'nr.employed', 'job_blue-collar',\n",
        "                              'job_entrepreneur', 'job_housemaid', 'job_management',\n",
        "                              'job_retired', 'job_self-employed', 'job_services',\n",
        "                              'job_student', 'job_technician', 'job_unemployed',\n",
        "                              'marital_divorced', 'marital_single',\n",
        "                              'marital_unknown', 'education_basic.4y', 'education_basic.6y',\n",
        "                              'education_basic.9y', 'education_high.school',\n",
        "                              'education_illiterate', 'education_professional.course',\n",
        "                              'education_unknown']]"
      ]
    },
    {
      "cell_type": "code",
      "execution_count": 68,
      "metadata": {
        "colab": {
          "base_uri": "https://localhost:8080/"
        },
        "id": "y5lDvAdvDBW9",
        "outputId": "a1b2812c-aba4-4052-ae91-41df00f3457e"
      },
      "outputs": [
        {
          "name": "stdout",
          "output_type": "stream",
          "text": [
            "Optimization terminated successfully.\n",
            "         Current function value: 0.294668\n",
            "         Iterations 7\n"
          ]
        },
        {
          "data": {
            "text/html": [
              "<table class=\"simpletable\">\n",
              "<caption>Logit Regression Results</caption>\n",
              "<tr>\n",
              "  <th>Dep. Variable:</th>           <td>y</td>        <th>  No. Observations:  </th>  <td> 41188</td> \n",
              "</tr>\n",
              "<tr>\n",
              "  <th>Model:</th>                 <td>Logit</td>      <th>  Df Residuals:      </th>  <td> 41164</td> \n",
              "</tr>\n",
              "<tr>\n",
              "  <th>Method:</th>                 <td>MLE</td>       <th>  Df Model:          </th>  <td>    23</td> \n",
              "</tr>\n",
              "<tr>\n",
              "  <th>Date:</th>            <td>Sat, 17 Feb 2024</td> <th>  Pseudo R-squ.:     </th>  <td>0.1629</td> \n",
              "</tr>\n",
              "<tr>\n",
              "  <th>Time:</th>                <td>13:21:57</td>     <th>  Log-Likelihood:    </th> <td> -12137.</td>\n",
              "</tr>\n",
              "<tr>\n",
              "  <th>converged:</th>             <td>True</td>       <th>  LL-Null:           </th> <td> -14499.</td>\n",
              "</tr>\n",
              "<tr>\n",
              "  <th>Covariance Type:</th>     <td>nonrobust</td>    <th>  LLR p-value:       </th>  <td> 0.000</td> \n",
              "</tr>\n",
              "</table>\n",
              "<table class=\"simpletable\">\n",
              "<tr>\n",
              "                <td></td>                   <th>coef</th>     <th>std err</th>      <th>z</th>      <th>P>|z|</th>  <th>[0.025</th>    <th>0.975]</th>  \n",
              "</tr>\n",
              "<tr>\n",
              "  <th>const</th>                         <td>   58.9762</td> <td>    1.231</td> <td>   47.892</td> <td> 0.000</td> <td>   56.563</td> <td>   61.390</td>\n",
              "</tr>\n",
              "<tr>\n",
              "  <th>age</th>                           <td>    0.0035</td> <td>    0.002</td> <td>    1.756</td> <td> 0.079</td> <td>   -0.000</td> <td>    0.007</td>\n",
              "</tr>\n",
              "<tr>\n",
              "  <th>previous</th>                      <td>    0.1579</td> <td>    0.027</td> <td>    5.892</td> <td> 0.000</td> <td>    0.105</td> <td>    0.210</td>\n",
              "</tr>\n",
              "<tr>\n",
              "  <th>nr.employed</th>                   <td>   -0.0119</td> <td>    0.000</td> <td>  -49.786</td> <td> 0.000</td> <td>   -0.012</td> <td>   -0.011</td>\n",
              "</tr>\n",
              "<tr>\n",
              "  <th>job_blue-collar</th>               <td>   -0.3271</td> <td>    0.065</td> <td>   -5.034</td> <td> 0.000</td> <td>   -0.454</td> <td>   -0.200</td>\n",
              "</tr>\n",
              "<tr>\n",
              "  <th>job_entrepreneur</th>              <td>   -0.1960</td> <td>    0.104</td> <td>   -1.886</td> <td> 0.059</td> <td>   -0.400</td> <td>    0.008</td>\n",
              "</tr>\n",
              "<tr>\n",
              "  <th>job_housemaid</th>                 <td>   -0.0418</td> <td>    0.121</td> <td>   -0.347</td> <td> 0.729</td> <td>   -0.278</td> <td>    0.195</td>\n",
              "</tr>\n",
              "<tr>\n",
              "  <th>job_management</th>                <td>   -0.1307</td> <td>    0.071</td> <td>   -1.831</td> <td> 0.067</td> <td>   -0.271</td> <td>    0.009</td>\n",
              "</tr>\n",
              "<tr>\n",
              "  <th>job_retired</th>                   <td>    0.3403</td> <td>    0.089</td> <td>    3.844</td> <td> 0.000</td> <td>    0.167</td> <td>    0.514</td>\n",
              "</tr>\n",
              "<tr>\n",
              "  <th>job_self-employed</th>             <td>   -0.1258</td> <td>    0.098</td> <td>   -1.285</td> <td> 0.199</td> <td>   -0.318</td> <td>    0.066</td>\n",
              "</tr>\n",
              "<tr>\n",
              "  <th>job_services</th>                  <td>   -0.2713</td> <td>    0.072</td> <td>   -3.770</td> <td> 0.000</td> <td>   -0.412</td> <td>   -0.130</td>\n",
              "</tr>\n",
              "<tr>\n",
              "  <th>job_student</th>                   <td>    0.3370</td> <td>    0.094</td> <td>    3.597</td> <td> 0.000</td> <td>    0.153</td> <td>    0.521</td>\n",
              "</tr>\n",
              "<tr>\n",
              "  <th>job_technician</th>                <td>   -0.0279</td> <td>    0.059</td> <td>   -0.474</td> <td> 0.636</td> <td>   -0.143</td> <td>    0.088</td>\n",
              "</tr>\n",
              "<tr>\n",
              "  <th>job_unemployed</th>                <td>    0.0689</td> <td>    0.105</td> <td>    0.659</td> <td> 0.510</td> <td>   -0.136</td> <td>    0.274</td>\n",
              "</tr>\n",
              "<tr>\n",
              "  <th>marital_divorced</th>              <td>   -0.0721</td> <td>    0.058</td> <td>   -1.251</td> <td> 0.211</td> <td>   -0.185</td> <td>    0.041</td>\n",
              "</tr>\n",
              "<tr>\n",
              "  <th>marital_single</th>                <td>    0.1002</td> <td>    0.043</td> <td>    2.336</td> <td> 0.020</td> <td>    0.016</td> <td>    0.184</td>\n",
              "</tr>\n",
              "<tr>\n",
              "  <th>marital_unknown</th>               <td>    0.2649</td> <td>    0.336</td> <td>    0.790</td> <td> 0.430</td> <td>   -0.393</td> <td>    0.923</td>\n",
              "</tr>\n",
              "<tr>\n",
              "  <th>education_basic.4y</th>            <td>   -0.2170</td> <td>    0.076</td> <td>   -2.862</td> <td> 0.004</td> <td>   -0.366</td> <td>   -0.068</td>\n",
              "</tr>\n",
              "<tr>\n",
              "  <th>education_basic.6y</th>            <td>   -0.1519</td> <td>    0.092</td> <td>   -1.643</td> <td> 0.100</td> <td>   -0.333</td> <td>    0.029</td>\n",
              "</tr>\n",
              "<tr>\n",
              "  <th>education_basic.9y</th>            <td>   -0.2730</td> <td>    0.067</td> <td>   -4.051</td> <td> 0.000</td> <td>   -0.405</td> <td>   -0.141</td>\n",
              "</tr>\n",
              "<tr>\n",
              "  <th>education_high.school</th>         <td>   -0.1920</td> <td>    0.050</td> <td>   -3.856</td> <td> 0.000</td> <td>   -0.290</td> <td>   -0.094</td>\n",
              "</tr>\n",
              "<tr>\n",
              "  <th>education_illiterate</th>          <td>    0.9357</td> <td>    0.620</td> <td>    1.510</td> <td> 0.131</td> <td>   -0.279</td> <td>    2.150</td>\n",
              "</tr>\n",
              "<tr>\n",
              "  <th>education_professional.course</th> <td>   -0.1255</td> <td>    0.063</td> <td>   -2.002</td> <td> 0.045</td> <td>   -0.248</td> <td>   -0.003</td>\n",
              "</tr>\n",
              "<tr>\n",
              "  <th>education_unknown</th>             <td>   -0.0578</td> <td>    0.086</td> <td>   -0.671</td> <td> 0.502</td> <td>   -0.227</td> <td>    0.111</td>\n",
              "</tr>\n",
              "</table>"
            ],
            "text/latex": [
              "\\begin{center}\n",
              "\\begin{tabular}{lclc}\n",
              "\\toprule\n",
              "\\textbf{Dep. Variable:}                 &        y         & \\textbf{  No. Observations:  } &    41188    \\\\\n",
              "\\textbf{Model:}                         &      Logit       & \\textbf{  Df Residuals:      } &    41164    \\\\\n",
              "\\textbf{Method:}                        &       MLE        & \\textbf{  Df Model:          } &       23    \\\\\n",
              "\\textbf{Date:}                          & Sat, 17 Feb 2024 & \\textbf{  Pseudo R-squ.:     } &   0.1629    \\\\\n",
              "\\textbf{Time:}                          &     13:21:57     & \\textbf{  Log-Likelihood:    } &   -12137.   \\\\\n",
              "\\textbf{converged:}                     &       True       & \\textbf{  LL-Null:           } &   -14499.   \\\\\n",
              "\\textbf{Covariance Type:}               &    nonrobust     & \\textbf{  LLR p-value:       } &    0.000    \\\\\n",
              "\\bottomrule\n",
              "\\end{tabular}\n",
              "\\begin{tabular}{lcccccc}\n",
              "                                        & \\textbf{coef} & \\textbf{std err} & \\textbf{z} & \\textbf{P$> |$z$|$} & \\textbf{[0.025} & \\textbf{0.975]}  \\\\\n",
              "\\midrule\n",
              "\\textbf{const}                          &      58.9762  &        1.231     &    47.892  &         0.000        &       56.563    &       61.390     \\\\\n",
              "\\textbf{age}                            &       0.0035  &        0.002     &     1.756  &         0.079        &       -0.000    &        0.007     \\\\\n",
              "\\textbf{previous}                       &       0.1579  &        0.027     &     5.892  &         0.000        &        0.105    &        0.210     \\\\\n",
              "\\textbf{nr.employed}                    &      -0.0119  &        0.000     &   -49.786  &         0.000        &       -0.012    &       -0.011     \\\\\n",
              "\\textbf{job\\_blue-collar}               &      -0.3271  &        0.065     &    -5.034  &         0.000        &       -0.454    &       -0.200     \\\\\n",
              "\\textbf{job\\_entrepreneur}              &      -0.1960  &        0.104     &    -1.886  &         0.059        &       -0.400    &        0.008     \\\\\n",
              "\\textbf{job\\_housemaid}                 &      -0.0418  &        0.121     &    -0.347  &         0.729        &       -0.278    &        0.195     \\\\\n",
              "\\textbf{job\\_management}                &      -0.1307  &        0.071     &    -1.831  &         0.067        &       -0.271    &        0.009     \\\\\n",
              "\\textbf{job\\_retired}                   &       0.3403  &        0.089     &     3.844  &         0.000        &        0.167    &        0.514     \\\\\n",
              "\\textbf{job\\_self-employed}             &      -0.1258  &        0.098     &    -1.285  &         0.199        &       -0.318    &        0.066     \\\\\n",
              "\\textbf{job\\_services}                  &      -0.2713  &        0.072     &    -3.770  &         0.000        &       -0.412    &       -0.130     \\\\\n",
              "\\textbf{job\\_student}                   &       0.3370  &        0.094     &     3.597  &         0.000        &        0.153    &        0.521     \\\\\n",
              "\\textbf{job\\_technician}                &      -0.0279  &        0.059     &    -0.474  &         0.636        &       -0.143    &        0.088     \\\\\n",
              "\\textbf{job\\_unemployed}                &       0.0689  &        0.105     &     0.659  &         0.510        &       -0.136    &        0.274     \\\\\n",
              "\\textbf{marital\\_divorced}              &      -0.0721  &        0.058     &    -1.251  &         0.211        &       -0.185    &        0.041     \\\\\n",
              "\\textbf{marital\\_single}                &       0.1002  &        0.043     &     2.336  &         0.020        &        0.016    &        0.184     \\\\\n",
              "\\textbf{marital\\_unknown}               &       0.2649  &        0.336     &     0.790  &         0.430        &       -0.393    &        0.923     \\\\\n",
              "\\textbf{education\\_basic.4y}            &      -0.2170  &        0.076     &    -2.862  &         0.004        &       -0.366    &       -0.068     \\\\\n",
              "\\textbf{education\\_basic.6y}            &      -0.1519  &        0.092     &    -1.643  &         0.100        &       -0.333    &        0.029     \\\\\n",
              "\\textbf{education\\_basic.9y}            &      -0.2730  &        0.067     &    -4.051  &         0.000        &       -0.405    &       -0.141     \\\\\n",
              "\\textbf{education\\_high.school}         &      -0.1920  &        0.050     &    -3.856  &         0.000        &       -0.290    &       -0.094     \\\\\n",
              "\\textbf{education\\_illiterate}          &       0.9357  &        0.620     &     1.510  &         0.131        &       -0.279    &        2.150     \\\\\n",
              "\\textbf{education\\_professional.course} &      -0.1255  &        0.063     &    -2.002  &         0.045        &       -0.248    &       -0.003     \\\\\n",
              "\\textbf{education\\_unknown}             &      -0.0578  &        0.086     &    -0.671  &         0.502        &       -0.227    &        0.111     \\\\\n",
              "\\bottomrule\n",
              "\\end{tabular}\n",
              "%\\caption{Logit Regression Results}\n",
              "\\end{center}"
            ],
            "text/plain": [
              "<class 'statsmodels.iolib.summary.Summary'>\n",
              "\"\"\"\n",
              "                           Logit Regression Results                           \n",
              "==============================================================================\n",
              "Dep. Variable:                      y   No. Observations:                41188\n",
              "Model:                          Logit   Df Residuals:                    41164\n",
              "Method:                           MLE   Df Model:                           23\n",
              "Date:                Sat, 17 Feb 2024   Pseudo R-squ.:                  0.1629\n",
              "Time:                        13:21:57   Log-Likelihood:                -12137.\n",
              "converged:                       True   LL-Null:                       -14499.\n",
              "Covariance Type:            nonrobust   LLR p-value:                     0.000\n",
              "=================================================================================================\n",
              "                                    coef    std err          z      P>|z|      [0.025      0.975]\n",
              "-------------------------------------------------------------------------------------------------\n",
              "const                            58.9762      1.231     47.892      0.000      56.563      61.390\n",
              "age                               0.0035      0.002      1.756      0.079      -0.000       0.007\n",
              "previous                          0.1579      0.027      5.892      0.000       0.105       0.210\n",
              "nr.employed                      -0.0119      0.000    -49.786      0.000      -0.012      -0.011\n",
              "job_blue-collar                  -0.3271      0.065     -5.034      0.000      -0.454      -0.200\n",
              "job_entrepreneur                 -0.1960      0.104     -1.886      0.059      -0.400       0.008\n",
              "job_housemaid                    -0.0418      0.121     -0.347      0.729      -0.278       0.195\n",
              "job_management                   -0.1307      0.071     -1.831      0.067      -0.271       0.009\n",
              "job_retired                       0.3403      0.089      3.844      0.000       0.167       0.514\n",
              "job_self-employed                -0.1258      0.098     -1.285      0.199      -0.318       0.066\n",
              "job_services                     -0.2713      0.072     -3.770      0.000      -0.412      -0.130\n",
              "job_student                       0.3370      0.094      3.597      0.000       0.153       0.521\n",
              "job_technician                   -0.0279      0.059     -0.474      0.636      -0.143       0.088\n",
              "job_unemployed                    0.0689      0.105      0.659      0.510      -0.136       0.274\n",
              "marital_divorced                 -0.0721      0.058     -1.251      0.211      -0.185       0.041\n",
              "marital_single                    0.1002      0.043      2.336      0.020       0.016       0.184\n",
              "marital_unknown                   0.2649      0.336      0.790      0.430      -0.393       0.923\n",
              "education_basic.4y               -0.2170      0.076     -2.862      0.004      -0.366      -0.068\n",
              "education_basic.6y               -0.1519      0.092     -1.643      0.100      -0.333       0.029\n",
              "education_basic.9y               -0.2730      0.067     -4.051      0.000      -0.405      -0.141\n",
              "education_high.school            -0.1920      0.050     -3.856      0.000      -0.290      -0.094\n",
              "education_illiterate              0.9357      0.620      1.510      0.131      -0.279       2.150\n",
              "education_professional.course    -0.1255      0.063     -2.002      0.045      -0.248      -0.003\n",
              "education_unknown                -0.0578      0.086     -0.671      0.502      -0.227       0.111\n",
              "=================================================================================================\n",
              "\"\"\""
            ]
          },
          "execution_count": 68,
          "metadata": {},
          "output_type": "execute_result"
        }
      ],
      "source": [
        "y = df_model1[['y']]\n",
        "x_mult_constant = sm.add_constant(x_mult)\n",
        "model1 = sm.Logit(y, x_mult_constant).fit()\n",
        "model1.summary()"
      ]
    },
    {
      "cell_type": "markdown",
      "metadata": {
        "id": "Gg7ExYAKEwR0"
      },
      "source": [
        "# 3. Уравнение"
      ]
    },
    {
      "cell_type": "markdown",
      "metadata": {
        "id": "hMihetK0JuMt"
      },
      "source": [
        "#### Уравнение:"
      ]
    },
    {
      "cell_type": "code",
      "execution_count": 69,
      "metadata": {
        "colab": {
          "base_uri": "https://localhost:8080/"
        },
        "id": "FqqHFNPqFCkR",
        "outputId": "10b32843-c08a-4ec2-f450-87df302a82bd"
      },
      "outputs": [
        {
          "name": "stdout",
          "output_type": "stream",
          "text": [
            "logit(p) = 58.9762 + 0.0035 * age + 0.1579 * previous + -0.0119 * nr.employed + -0.3271 * job_blue-collar + -0.1960 * job_entrepreneur + -0.0418 * job_housemaid + -0.1307 * job_management + 0.3403 * job_retired + -0.1258 * job_self-employed + -0.2713 * job_services + 0.3370 * job_student + -0.0279 * job_technician + 0.0689 * job_unemployed + -0.0721 * marital_divorced + 0.1002 * marital_single + 0.2649 * marital_unknown + -0.2170 * education_basic.4y + -0.1519 * education_basic.6y + -0.2730 * education_basic.9y + -0.1920 * education_high.school + 0.9357 * education_illiterate + -0.1255 * education_professional.course + -0.0578 * education_unknown\n"
          ]
        },
        {
          "name": "stderr",
          "output_type": "stream",
          "text": [
            "/tmp/ipykernel_328326/535385021.py:1: FutureWarning: Series.__getitem__ treating keys as positions is deprecated. In a future version, integer keys will always be treated as labels (consistent with DataFrame behavior). To access a value by position, use `ser.iloc[pos]`\n",
            "  equation = 'logit(p) = {:.4f}'.format(model1.params[0])  # Свободный член (intercept)\n"
          ]
        }
      ],
      "source": [
        "equation = 'logit(p) = {:.4f}'.format(model1.params[0])  # Свободный член (intercept)\n",
        "\n",
        "for i, param in enumerate(model1.params[1:], start=1):\n",
        "    equation += ' + {:.4f} * {}'.format(param, x_mult_constant.columns[i])\n",
        "\n",
        "print(equation)"
      ]
    },
    {
      "cell_type": "markdown",
      "metadata": {
        "id": "m1f2FtIaRdPL"
      },
      "source": [
        "Модель статистически значима и объясняет 16% изменчивости значений зависимой переменной."
      ]
    },
    {
      "cell_type": "markdown",
      "metadata": {
        "id": "Fb58gWFYQzFI"
      },
      "source": [
        "#### Характеристика модели:"
      ]
    },
    {
      "cell_type": "code",
      "execution_count": 70,
      "metadata": {
        "colab": {
          "base_uri": "https://localhost:8080/"
        },
        "id": "iDNFEBn2RYNd",
        "outputId": "8d8d410e-bb2b-4930-b8a4-84505d5fa903"
      },
      "outputs": [
        {
          "name": "stdout",
          "output_type": "stream",
          "text": [
            "R^2 = 0.162945\n",
            "Model significance = 0.000000\n"
          ]
        }
      ],
      "source": [
        "print('R^2 = {:f}'.format(model1.prsquared))\n",
        "print('Model significance = {:f}'.format(model1.llr_pvalue))"
      ]
    },
    {
      "cell_type": "markdown",
      "metadata": {
        "id": "-DYjuYGqSrVn"
      },
      "source": [
        "# 4. Коэффициенты"
      ]
    },
    {
      "cell_type": "markdown",
      "metadata": {
        "id": "uaLF7PHFQ_6Z"
      },
      "source": [
        "#### Коэффициенты"
      ]
    },
    {
      "cell_type": "code",
      "execution_count": 71,
      "metadata": {
        "colab": {
          "base_uri": "https://localhost:8080/",
          "height": 0
        },
        "id": "yrW-_aMDE2mX",
        "outputId": "9e556f84-66f0-42aa-876b-44c8a20c3fe5"
      },
      "outputs": [
        {
          "data": {
            "text/html": [
              "<div>\n",
              "<style scoped>\n",
              "    .dataframe tbody tr th:only-of-type {\n",
              "        vertical-align: middle;\n",
              "    }\n",
              "\n",
              "    .dataframe tbody tr th {\n",
              "        vertical-align: top;\n",
              "    }\n",
              "\n",
              "    .dataframe thead th {\n",
              "        text-align: right;\n",
              "    }\n",
              "</style>\n",
              "<table border=\"1\" class=\"dataframe\">\n",
              "  <thead>\n",
              "    <tr style=\"text-align: right;\">\n",
              "      <th></th>\n",
              "      <th>Coefs</th>\n",
              "      <th>OddsRatio</th>\n",
              "    </tr>\n",
              "    <tr>\n",
              "      <th>Features</th>\n",
              "      <th></th>\n",
              "      <th></th>\n",
              "    </tr>\n",
              "  </thead>\n",
              "  <tbody>\n",
              "    <tr>\n",
              "      <th>age</th>\n",
              "      <td>0.003525</td>\n",
              "      <td>1.003532</td>\n",
              "    </tr>\n",
              "    <tr>\n",
              "      <th>previous</th>\n",
              "      <td>0.157904</td>\n",
              "      <td>1.171054</td>\n",
              "    </tr>\n",
              "    <tr>\n",
              "      <th>nr.employed</th>\n",
              "      <td>-0.011878</td>\n",
              "      <td>0.988192</td>\n",
              "    </tr>\n",
              "    <tr>\n",
              "      <th>job_blue-collar</th>\n",
              "      <td>-0.327118</td>\n",
              "      <td>0.720999</td>\n",
              "    </tr>\n",
              "    <tr>\n",
              "      <th>job_entrepreneur</th>\n",
              "      <td>-0.195960</td>\n",
              "      <td>0.822045</td>\n",
              "    </tr>\n",
              "    <tr>\n",
              "      <th>job_housemaid</th>\n",
              "      <td>-0.041846</td>\n",
              "      <td>0.959017</td>\n",
              "    </tr>\n",
              "    <tr>\n",
              "      <th>job_management</th>\n",
              "      <td>-0.130748</td>\n",
              "      <td>0.877439</td>\n",
              "    </tr>\n",
              "    <tr>\n",
              "      <th>job_retired</th>\n",
              "      <td>0.340252</td>\n",
              "      <td>1.405302</td>\n",
              "    </tr>\n",
              "    <tr>\n",
              "      <th>job_self-employed</th>\n",
              "      <td>-0.125809</td>\n",
              "      <td>0.881783</td>\n",
              "    </tr>\n",
              "    <tr>\n",
              "      <th>job_services</th>\n",
              "      <td>-0.271313</td>\n",
              "      <td>0.762378</td>\n",
              "    </tr>\n",
              "    <tr>\n",
              "      <th>job_student</th>\n",
              "      <td>0.336955</td>\n",
              "      <td>1.400676</td>\n",
              "    </tr>\n",
              "    <tr>\n",
              "      <th>job_technician</th>\n",
              "      <td>-0.027906</td>\n",
              "      <td>0.972479</td>\n",
              "    </tr>\n",
              "    <tr>\n",
              "      <th>job_unemployed</th>\n",
              "      <td>0.068913</td>\n",
              "      <td>1.071343</td>\n",
              "    </tr>\n",
              "    <tr>\n",
              "      <th>marital_divorced</th>\n",
              "      <td>-0.072066</td>\n",
              "      <td>0.930470</td>\n",
              "    </tr>\n",
              "    <tr>\n",
              "      <th>marital_single</th>\n",
              "      <td>0.100225</td>\n",
              "      <td>1.105419</td>\n",
              "    </tr>\n",
              "    <tr>\n",
              "      <th>marital_unknown</th>\n",
              "      <td>0.264942</td>\n",
              "      <td>1.303355</td>\n",
              "    </tr>\n",
              "    <tr>\n",
              "      <th>education_basic.4y</th>\n",
              "      <td>-0.217002</td>\n",
              "      <td>0.804928</td>\n",
              "    </tr>\n",
              "    <tr>\n",
              "      <th>education_basic.6y</th>\n",
              "      <td>-0.151869</td>\n",
              "      <td>0.859101</td>\n",
              "    </tr>\n",
              "    <tr>\n",
              "      <th>education_basic.9y</th>\n",
              "      <td>-0.273013</td>\n",
              "      <td>0.761083</td>\n",
              "    </tr>\n",
              "    <tr>\n",
              "      <th>education_high.school</th>\n",
              "      <td>-0.191977</td>\n",
              "      <td>0.825325</td>\n",
              "    </tr>\n",
              "    <tr>\n",
              "      <th>education_illiterate</th>\n",
              "      <td>0.935676</td>\n",
              "      <td>2.548937</td>\n",
              "    </tr>\n",
              "    <tr>\n",
              "      <th>education_professional.course</th>\n",
              "      <td>-0.125536</td>\n",
              "      <td>0.882024</td>\n",
              "    </tr>\n",
              "    <tr>\n",
              "      <th>education_unknown</th>\n",
              "      <td>-0.057829</td>\n",
              "      <td>0.943811</td>\n",
              "    </tr>\n",
              "  </tbody>\n",
              "</table>\n",
              "</div>"
            ],
            "text/plain": [
              "                                  Coefs  OddsRatio\n",
              "Features                                          \n",
              "age                            0.003525   1.003532\n",
              "previous                       0.157904   1.171054\n",
              "nr.employed                   -0.011878   0.988192\n",
              "job_blue-collar               -0.327118   0.720999\n",
              "job_entrepreneur              -0.195960   0.822045\n",
              "job_housemaid                 -0.041846   0.959017\n",
              "job_management                -0.130748   0.877439\n",
              "job_retired                    0.340252   1.405302\n",
              "job_self-employed             -0.125809   0.881783\n",
              "job_services                  -0.271313   0.762378\n",
              "job_student                    0.336955   1.400676\n",
              "job_technician                -0.027906   0.972479\n",
              "job_unemployed                 0.068913   1.071343\n",
              "marital_divorced              -0.072066   0.930470\n",
              "marital_single                 0.100225   1.105419\n",
              "marital_unknown                0.264942   1.303355\n",
              "education_basic.4y            -0.217002   0.804928\n",
              "education_basic.6y            -0.151869   0.859101\n",
              "education_basic.9y            -0.273013   0.761083\n",
              "education_high.school         -0.191977   0.825325\n",
              "education_illiterate           0.935676   2.548937\n",
              "education_professional.course -0.125536   0.882024\n",
              "education_unknown             -0.057829   0.943811"
            ]
          },
          "metadata": {},
          "output_type": "display_data"
        }
      ],
      "source": [
        "coefs = pd.DataFrame()\n",
        "coefs['Coefs'] = model1.params[1:]\n",
        "coefs['Features'] = model1.params.index[1:]\n",
        "coefs.set_index('Features', inplace=True)\n",
        "coefs['OddsRatio'] = np.exp(coefs.Coefs)\n",
        "display(coefs)"
      ]
    },
    {
      "cell_type": "code",
      "execution_count": 72,
      "metadata": {
        "id": "rM2H3ul3OhyJ"
      },
      "outputs": [],
      "source": [
        "def yes_no(p_value, level = 0.05):\n",
        "    if abs(p_value) < level:\n",
        "        return 'significant'\n",
        "    else:\n",
        "        return 'non-significant'"
      ]
    },
    {
      "cell_type": "code",
      "execution_count": 73,
      "metadata": {
        "colab": {
          "base_uri": "https://localhost:8080/",
          "height": 0
        },
        "id": "npBvKYmNOhmW",
        "outputId": "22b8b858-61aa-4d90-c04b-6ac344da6551"
      },
      "outputs": [
        {
          "data": {
            "text/html": [
              "<div>\n",
              "<style scoped>\n",
              "    .dataframe tbody tr th:only-of-type {\n",
              "        vertical-align: middle;\n",
              "    }\n",
              "\n",
              "    .dataframe tbody tr th {\n",
              "        vertical-align: top;\n",
              "    }\n",
              "\n",
              "    .dataframe thead th {\n",
              "        text-align: right;\n",
              "    }\n",
              "</style>\n",
              "<table border=\"1\" class=\"dataframe\">\n",
              "  <thead>\n",
              "    <tr style=\"text-align: right;\">\n",
              "      <th></th>\n",
              "      <th>p_values</th>\n",
              "      <th>5% level</th>\n",
              "      <th>10% level</th>\n",
              "    </tr>\n",
              "    <tr>\n",
              "      <th>Features</th>\n",
              "      <th></th>\n",
              "      <th></th>\n",
              "      <th></th>\n",
              "    </tr>\n",
              "  </thead>\n",
              "  <tbody>\n",
              "    <tr>\n",
              "      <th>age</th>\n",
              "      <td>0.079</td>\n",
              "      <td>non-significant</td>\n",
              "      <td>significant</td>\n",
              "    </tr>\n",
              "    <tr>\n",
              "      <th>previous</th>\n",
              "      <td>0.000</td>\n",
              "      <td>significant</td>\n",
              "      <td>significant</td>\n",
              "    </tr>\n",
              "    <tr>\n",
              "      <th>nr.employed</th>\n",
              "      <td>0.000</td>\n",
              "      <td>significant</td>\n",
              "      <td>significant</td>\n",
              "    </tr>\n",
              "    <tr>\n",
              "      <th>job_blue-collar</th>\n",
              "      <td>0.000</td>\n",
              "      <td>significant</td>\n",
              "      <td>significant</td>\n",
              "    </tr>\n",
              "    <tr>\n",
              "      <th>job_entrepreneur</th>\n",
              "      <td>0.059</td>\n",
              "      <td>non-significant</td>\n",
              "      <td>significant</td>\n",
              "    </tr>\n",
              "    <tr>\n",
              "      <th>job_housemaid</th>\n",
              "      <td>0.729</td>\n",
              "      <td>non-significant</td>\n",
              "      <td>non-significant</td>\n",
              "    </tr>\n",
              "    <tr>\n",
              "      <th>job_management</th>\n",
              "      <td>0.067</td>\n",
              "      <td>non-significant</td>\n",
              "      <td>significant</td>\n",
              "    </tr>\n",
              "    <tr>\n",
              "      <th>job_retired</th>\n",
              "      <td>0.000</td>\n",
              "      <td>significant</td>\n",
              "      <td>significant</td>\n",
              "    </tr>\n",
              "    <tr>\n",
              "      <th>job_self-employed</th>\n",
              "      <td>0.199</td>\n",
              "      <td>non-significant</td>\n",
              "      <td>non-significant</td>\n",
              "    </tr>\n",
              "    <tr>\n",
              "      <th>job_services</th>\n",
              "      <td>0.000</td>\n",
              "      <td>significant</td>\n",
              "      <td>significant</td>\n",
              "    </tr>\n",
              "    <tr>\n",
              "      <th>job_student</th>\n",
              "      <td>0.000</td>\n",
              "      <td>significant</td>\n",
              "      <td>significant</td>\n",
              "    </tr>\n",
              "    <tr>\n",
              "      <th>job_technician</th>\n",
              "      <td>0.636</td>\n",
              "      <td>non-significant</td>\n",
              "      <td>non-significant</td>\n",
              "    </tr>\n",
              "    <tr>\n",
              "      <th>job_unemployed</th>\n",
              "      <td>0.510</td>\n",
              "      <td>non-significant</td>\n",
              "      <td>non-significant</td>\n",
              "    </tr>\n",
              "    <tr>\n",
              "      <th>marital_divorced</th>\n",
              "      <td>0.211</td>\n",
              "      <td>non-significant</td>\n",
              "      <td>non-significant</td>\n",
              "    </tr>\n",
              "    <tr>\n",
              "      <th>marital_single</th>\n",
              "      <td>0.020</td>\n",
              "      <td>significant</td>\n",
              "      <td>significant</td>\n",
              "    </tr>\n",
              "    <tr>\n",
              "      <th>marital_unknown</th>\n",
              "      <td>0.430</td>\n",
              "      <td>non-significant</td>\n",
              "      <td>non-significant</td>\n",
              "    </tr>\n",
              "    <tr>\n",
              "      <th>education_basic.4y</th>\n",
              "      <td>0.004</td>\n",
              "      <td>significant</td>\n",
              "      <td>significant</td>\n",
              "    </tr>\n",
              "    <tr>\n",
              "      <th>education_basic.6y</th>\n",
              "      <td>0.100</td>\n",
              "      <td>non-significant</td>\n",
              "      <td>non-significant</td>\n",
              "    </tr>\n",
              "    <tr>\n",
              "      <th>education_basic.9y</th>\n",
              "      <td>0.000</td>\n",
              "      <td>significant</td>\n",
              "      <td>significant</td>\n",
              "    </tr>\n",
              "    <tr>\n",
              "      <th>education_high.school</th>\n",
              "      <td>0.000</td>\n",
              "      <td>significant</td>\n",
              "      <td>significant</td>\n",
              "    </tr>\n",
              "    <tr>\n",
              "      <th>education_illiterate</th>\n",
              "      <td>0.131</td>\n",
              "      <td>non-significant</td>\n",
              "      <td>non-significant</td>\n",
              "    </tr>\n",
              "    <tr>\n",
              "      <th>education_professional.course</th>\n",
              "      <td>0.045</td>\n",
              "      <td>significant</td>\n",
              "      <td>significant</td>\n",
              "    </tr>\n",
              "    <tr>\n",
              "      <th>education_unknown</th>\n",
              "      <td>0.502</td>\n",
              "      <td>non-significant</td>\n",
              "      <td>non-significant</td>\n",
              "    </tr>\n",
              "  </tbody>\n",
              "</table>\n",
              "</div>"
            ],
            "text/plain": [
              "                              p_values         5% level        10% level\n",
              "Features                                                                \n",
              "age                              0.079  non-significant      significant\n",
              "previous                         0.000      significant      significant\n",
              "nr.employed                      0.000      significant      significant\n",
              "job_blue-collar                  0.000      significant      significant\n",
              "job_entrepreneur                 0.059  non-significant      significant\n",
              "job_housemaid                    0.729  non-significant  non-significant\n",
              "job_management                   0.067  non-significant      significant\n",
              "job_retired                      0.000      significant      significant\n",
              "job_self-employed                0.199  non-significant  non-significant\n",
              "job_services                     0.000      significant      significant\n",
              "job_student                      0.000      significant      significant\n",
              "job_technician                   0.636  non-significant  non-significant\n",
              "job_unemployed                   0.510  non-significant  non-significant\n",
              "marital_divorced                 0.211  non-significant  non-significant\n",
              "marital_single                   0.020      significant      significant\n",
              "marital_unknown                  0.430  non-significant  non-significant\n",
              "education_basic.4y               0.004      significant      significant\n",
              "education_basic.6y               0.100  non-significant  non-significant\n",
              "education_basic.9y               0.000      significant      significant\n",
              "education_high.school            0.000      significant      significant\n",
              "education_illiterate             0.131  non-significant  non-significant\n",
              "education_professional.course    0.045      significant      significant\n",
              "education_unknown                0.502  non-significant  non-significant"
            ]
          },
          "execution_count": 73,
          "metadata": {},
          "output_type": "execute_result"
        }
      ],
      "source": [
        "pvals = pd.DataFrame()\n",
        "pvals['p_values'] = model1.pvalues[1:]\n",
        "pvals['5% level']= pvals['p_values'].apply(yes_no)\n",
        "pvals['p_values'] = pvals['p_values'].map('{:.3f}'.format)\n",
        "pvals['Features'] = model1.params.index[1:]\n",
        "pvals.set_index('Features',inplace=True)\n",
        "pvals['10% level'] = model1.pvalues[1:].apply(lambda x: yes_no(x, level=0.1))\n",
        "pvals"
      ]
    },
    {
      "cell_type": "markdown",
      "metadata": {
        "id": "IX2j_xePO8Bj"
      },
      "source": [
        "Нетрудно заметить, что только небольшое количество предикторов статистически значимы\n",
        "\n",
        "\n",
        "*   Каждый дополнительный контакт, выполненный до этой кампании и для этого клиента увеличивает шансы на оформление депозита на 16%\n",
        "*   При увеличении числа сотрудников шансы на  депозит снижаются на 1%\n",
        "*   Принадлежность к рабочему классу уменьшает шансы на 33%\n",
        "*   Принадлежность к пенсионерам уменьшает шансы на 34%\n",
        "*   Наличие работы в сфере обслуживания уменьшает шансы на 27%\n",
        "*   Принадлежность к студентам увеличивает шансы на 33%\n",
        "*   Одиночество увеличивает шанс того, что человек подпишется на депозит на 10%\n",
        "*   Наличие только 4 классов образования уменьшает шансы на 21%\n",
        "*   Наличие только 9 классов образования уменьшает шансы на 27%\n",
        "*   Наличие только среднего образования уменьшает шансы на 19%\n",
        "*   Наличие только среднего профессионального образования уменьшает шансы на 12%\n",
        "\n",
        "Остальные предикторы статистически незначимы.\n",
        "\n"
      ]
    },
    {
      "cell_type": "markdown",
      "metadata": {
        "id": "VAkzZOzjVfD_"
      },
      "source": [
        "# 5. Диагностика модели"
      ]
    },
    {
      "cell_type": "markdown",
      "metadata": {
        "id": "9bwqIpsnmmQs"
      },
      "source": [
        "### Остатки"
      ]
    },
    {
      "cell_type": "code",
      "execution_count": 74,
      "metadata": {
        "colab": {
          "base_uri": "https://localhost:8080/"
        },
        "id": "7MLa4s0QVhJq",
        "outputId": "ae5685b0-6711-40df-ba1f-568c216d4b6d"
      },
      "outputs": [
        {
          "name": "stdout",
          "output_type": "stream",
          "text": [
            "P-value: 0.000\n"
          ]
        }
      ],
      "source": [
        "p = stats.kstest(model1.resid_generalized, 'norm', args=(model1.resid_generalized.mean(), model1.resid_generalized.std())).pvalue\n",
        "print('P-value: {:.3f}'.format(p))"
      ]
    },
    {
      "cell_type": "code",
      "execution_count": 75,
      "metadata": {
        "colab": {
          "base_uri": "https://localhost:8080/",
          "height": 0
        },
        "id": "0NxTyoMqVn1S",
        "outputId": "f0414cf1-84fe-442d-9ce1-c50412ff8551"
      },
      "outputs": [
        {
          "name": "stderr",
          "output_type": "stream",
          "text": [
            "/tmp/ipykernel_328326/1491037159.py:1: UserWarning: \n",
            "\n",
            "`distplot` is a deprecated function and will be removed in seaborn v0.14.0.\n",
            "\n",
            "Please adapt your code to use either `displot` (a figure-level function with\n",
            "similar flexibility) or `histplot` (an axes-level function for histograms).\n",
            "\n",
            "For a guide to updating your code to use the new functions, please see\n",
            "https://gist.github.com/mwaskom/de44147ed2974457ad6372750bbe5751\n",
            "\n",
            "  sns.distplot(model1.resid_generalized, fit=stats.norm)\n"
          ]
        },
        {
          "data": {
            "text/plain": [
              "<Axes: ylabel='Density'>"
            ]
          },
          "execution_count": 75,
          "metadata": {},
          "output_type": "execute_result"
        },
        {
          "data": {
            "image/png": "[encoded data removed]",
            "text/plain": [
              "<Figure size 640x480 with 1 Axes>"
            ]
          },
          "metadata": {},
          "output_type": "display_data"
        }
      ],
      "source": [
        "sns.distplot(model1.resid_generalized, fit=stats.norm)"
      ]
    },
    {
      "cell_type": "markdown",
      "metadata": {
        "id": "PcxYzGpHmmQt"
      },
      "source": [
        "Распределение остатков отличается от нормального распределения."
      ]
    },
    {
      "cell_type": "markdown",
      "metadata": {
        "id": "EMFHnFdwmmQt"
      },
      "source": [
        "### Мультиколлинеарность"
      ]
    },
    {
      "cell_type": "code",
      "execution_count": 76,
      "metadata": {
        "id": "kQQot64YmmQt"
      },
      "outputs": [],
      "source": [
        "vifs = np.array([vif(model1.model.exog, i) for i in range(model1.model.exog.shape[1])])"
      ]
    },
    {
      "cell_type": "code",
      "execution_count": 77,
      "metadata": {
        "colab": {
          "base_uri": "https://localhost:8080/",
          "height": 0
        },
        "id": "4ua0FZlbmmQt",
        "outputId": "30120a87-1e6b-4941-94c6-460ce067ada7"
      },
      "outputs": [
        {
          "data": {
            "text/html": [
              "<div>\n",
              "<style scoped>\n",
              "    .dataframe tbody tr th:only-of-type {\n",
              "        vertical-align: middle;\n",
              "    }\n",
              "\n",
              "    .dataframe tbody tr th {\n",
              "        vertical-align: top;\n",
              "    }\n",
              "\n",
              "    .dataframe thead th {\n",
              "        text-align: right;\n",
              "    }\n",
              "</style>\n",
              "<table border=\"1\" class=\"dataframe\">\n",
              "  <thead>\n",
              "    <tr style=\"text-align: right;\">\n",
              "      <th></th>\n",
              "      <th>VIF</th>\n",
              "      <th>Features</th>\n",
              "    </tr>\n",
              "  </thead>\n",
              "  <tbody>\n",
              "    <tr>\n",
              "      <th>15</th>\n",
              "      <td>1.002362</td>\n",
              "      <td>marital_unknown</td>\n",
              "    </tr>\n",
              "    <tr>\n",
              "      <th>20</th>\n",
              "      <td>1.003437</td>\n",
              "      <td>education_illiterate</td>\n",
              "    </tr>\n",
              "    <tr>\n",
              "      <th>13</th>\n",
              "      <td>1.070520</td>\n",
              "      <td>marital_divorced</td>\n",
              "    </tr>\n",
              "    <tr>\n",
              "      <th>12</th>\n",
              "      <td>1.091059</td>\n",
              "      <td>job_unemployed</td>\n",
              "    </tr>\n",
              "    <tr>\n",
              "      <th>8</th>\n",
              "      <td>1.112760</td>\n",
              "      <td>job_self-employed</td>\n",
              "    </tr>\n",
              "    <tr>\n",
              "      <th>4</th>\n",
              "      <td>1.121086</td>\n",
              "      <td>job_entrepreneur</td>\n",
              "    </tr>\n",
              "    <tr>\n",
              "      <th>5</th>\n",
              "      <td>1.175174</td>\n",
              "      <td>job_housemaid</td>\n",
              "    </tr>\n",
              "    <tr>\n",
              "      <th>10</th>\n",
              "      <td>1.178314</td>\n",
              "      <td>job_student</td>\n",
              "    </tr>\n",
              "    <tr>\n",
              "      <th>22</th>\n",
              "      <td>1.180721</td>\n",
              "      <td>education_unknown</td>\n",
              "    </tr>\n",
              "    <tr>\n",
              "      <th>6</th>\n",
              "      <td>1.225800</td>\n",
              "      <td>job_management</td>\n",
              "    </tr>\n",
              "    <tr>\n",
              "      <th>14</th>\n",
              "      <td>1.334674</td>\n",
              "      <td>marital_single</td>\n",
              "    </tr>\n",
              "    <tr>\n",
              "      <th>1</th>\n",
              "      <td>1.338972</td>\n",
              "      <td>previous</td>\n",
              "    </tr>\n",
              "    <tr>\n",
              "      <th>17</th>\n",
              "      <td>1.388135</td>\n",
              "      <td>education_basic.6y</td>\n",
              "    </tr>\n",
              "    <tr>\n",
              "      <th>2</th>\n",
              "      <td>1.392325</td>\n",
              "      <td>nr.employed</td>\n",
              "    </tr>\n",
              "    <tr>\n",
              "      <th>9</th>\n",
              "      <td>1.401851</td>\n",
              "      <td>job_services</td>\n",
              "    </tr>\n",
              "    <tr>\n",
              "      <th>7</th>\n",
              "      <td>1.462824</td>\n",
              "      <td>job_retired</td>\n",
              "    </tr>\n",
              "    <tr>\n",
              "      <th>21</th>\n",
              "      <td>1.619794</td>\n",
              "      <td>education_professional.course</td>\n",
              "    </tr>\n",
              "    <tr>\n",
              "      <th>0</th>\n",
              "      <td>1.621897</td>\n",
              "      <td>age</td>\n",
              "    </tr>\n",
              "    <tr>\n",
              "      <th>19</th>\n",
              "      <td>1.653101</td>\n",
              "      <td>education_high.school</td>\n",
              "    </tr>\n",
              "    <tr>\n",
              "      <th>11</th>\n",
              "      <td>1.730241</td>\n",
              "      <td>job_technician</td>\n",
              "    </tr>\n",
              "    <tr>\n",
              "      <th>16</th>\n",
              "      <td>1.783773</td>\n",
              "      <td>education_basic.4y</td>\n",
              "    </tr>\n",
              "    <tr>\n",
              "      <th>18</th>\n",
              "      <td>1.828521</td>\n",
              "      <td>education_basic.9y</td>\n",
              "    </tr>\n",
              "    <tr>\n",
              "      <th>3</th>\n",
              "      <td>2.319240</td>\n",
              "      <td>job_blue-collar</td>\n",
              "    </tr>\n",
              "  </tbody>\n",
              "</table>\n",
              "</div>"
            ],
            "text/plain": [
              "         VIF                       Features\n",
              "15  1.002362                marital_unknown\n",
              "20  1.003437           education_illiterate\n",
              "13  1.070520               marital_divorced\n",
              "12  1.091059                 job_unemployed\n",
              "8   1.112760              job_self-employed\n",
              "4   1.121086               job_entrepreneur\n",
              "5   1.175174                  job_housemaid\n",
              "10  1.178314                    job_student\n",
              "22  1.180721              education_unknown\n",
              "6   1.225800                 job_management\n",
              "14  1.334674                 marital_single\n",
              "1   1.338972                       previous\n",
              "17  1.388135             education_basic.6y\n",
              "2   1.392325                    nr.employed\n",
              "9   1.401851                   job_services\n",
              "7   1.462824                    job_retired\n",
              "21  1.619794  education_professional.course\n",
              "0   1.621897                            age\n",
              "19  1.653101          education_high.school\n",
              "11  1.730241                 job_technician\n",
              "16  1.783773             education_basic.4y\n",
              "18  1.828521             education_basic.9y\n",
              "3   2.319240                job_blue-collar"
            ]
          },
          "execution_count": 77,
          "metadata": {},
          "output_type": "execute_result"
        }
      ],
      "source": [
        "vif_df = pd.DataFrame()\n",
        "vif_df['VIF'] = vifs[1:]\n",
        "vif_df['Features'] = model1.params.index[1:]\n",
        "vif_df.sort_values(by=['VIF'])"
      ]
    },
    {
      "cell_type": "markdown",
      "metadata": {
        "id": "FENxKPzbmmQu"
      },
      "source": [
        "Нет значений VIF, превышающих 10. Проблема мультиколлинеарности отсутствует."
      ]
    },
    {
      "cell_type": "markdown",
      "metadata": {
        "id": "Ar7d0AZxWtuE"
      },
      "source": [
        "# 6. Выводы"
      ]
    },
    {
      "cell_type": "markdown",
      "metadata": {
        "id": "fDwYSw_tWwc8"
      },
      "source": [
        "* студенты и одинокие люди,  более склонны подписываться на срочные депозиты.\n",
        "* рабочий класс, работники в сфере обслуживания, а также люди с 4-мя или 9-тью классами образования, средним или средним профессиональным образованием менее склонны к подписанию депозитов.\n",
        "* уменьшение числа сотрудников и увеличение числа предыдущих контактов связано с увеличением вероятности подписания депозита.\n",
        "1. job - H1 подтвердилась.\n",
        "2. marital H1\n",
        "3. nr.employed - H1\n",
        "4. age -H0\n",
        "5. education - H1\n",
        "6. previous - H1\n",
        "\n",
        "Результаты про людей с низким уровнем образования ожидаемы, в отличие от одиноких людей, потому что казалось бы, что наоборот, скорее семейные люди  должны интересоваться эффективными вложениями денег, для будущего детей, например.\n",
        "\n",
        "Модель обладает статистической значимостью, объясняет 16% изменчивости значений зависимой переменной, лишена проблем мультиколлинеарности."
      ]
    }
  ],
  "metadata": {
    "colab": {
      "collapsed_sections": [
        "vgFbrDYPvwkH",
        "tgAsFebnIfTA",
        "GONb6qAsE9Tr",
        "H4V3wFOoE5Ll",
        "zYkpdp0jE08G",
        "lAf-b361FMyM",
        "IUY3FCUIGxpN",
        "ld6ocS_3G2h0",
        "q8pGmdyjHbnz",
        "J3aRVBM5IURv",
        "N5mtS5crIy4R",
        "IqDma4AnJ6df",
        "bYSqFxqPLgOe",
        "UFBg2imxAOf_",
        "Gg7ExYAKEwR0",
        "-DYjuYGqSrVn",
        "VAkzZOzjVfD_",
        "9bwqIpsnmmQs",
        "EMFHnFdwmmQt"
      ],
      "provenance": []
    },
    "kernelspec": {
      "display_name": "Python 3 (ipykernel)",
      "language": "python",
      "name": "python3"
    },
    "language_info": {
      "codemirror_mode": {
        "name": "ipython",
        "version": 3
      },
      "file_extension": ".py",
      "mimetype": "text/x-python",
      "name": "python",
      "nbconvert_exporter": "python",
      "pygments_lexer": "ipython3",
      "version": "3.10.12"
    }
  },
  "nbformat": 4,
  "nbformat_minor": 0
}
